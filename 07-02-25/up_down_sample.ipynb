{
 "cells": [
  {
   "cell_type": "code",
   "execution_count": 16,
   "id": "f521a7fd",
   "metadata": {},
   "outputs": [],
   "source": [
    "import pandas as pd\n",
    "from sklearn.utils import resample"
   ]
  },
  {
   "cell_type": "code",
   "execution_count": 17,
   "id": "d1f72294",
   "metadata": {},
   "outputs": [
    {
     "data": {
      "text/html": [
       "<div>\n",
       "<style scoped>\n",
       "    .dataframe tbody tr th:only-of-type {\n",
       "        vertical-align: middle;\n",
       "    }\n",
       "\n",
       "    .dataframe tbody tr th {\n",
       "        vertical-align: top;\n",
       "    }\n",
       "\n",
       "    .dataframe thead th {\n",
       "        text-align: right;\n",
       "    }\n",
       "</style>\n",
       "<table border=\"1\" class=\"dataframe\">\n",
       "  <thead>\n",
       "    <tr style=\"text-align: right;\">\n",
       "      <th></th>\n",
       "      <th>Age</th>\n",
       "      <th>Income</th>\n",
       "      <th>Class</th>\n",
       "    </tr>\n",
       "  </thead>\n",
       "  <tbody>\n",
       "    <tr>\n",
       "      <th>0</th>\n",
       "      <td>22</td>\n",
       "      <td>2000</td>\n",
       "      <td>High</td>\n",
       "    </tr>\n",
       "    <tr>\n",
       "      <th>1</th>\n",
       "      <td>25</td>\n",
       "      <td>2500</td>\n",
       "      <td>Low</td>\n",
       "    </tr>\n",
       "    <tr>\n",
       "      <th>2</th>\n",
       "      <td>27</td>\n",
       "      <td>2700</td>\n",
       "      <td>Low</td>\n",
       "    </tr>\n",
       "    <tr>\n",
       "      <th>3</th>\n",
       "      <td>28</td>\n",
       "      <td>3200</td>\n",
       "      <td>High</td>\n",
       "    </tr>\n",
       "    <tr>\n",
       "      <th>4</th>\n",
       "      <td>30</td>\n",
       "      <td>3500</td>\n",
       "      <td>High</td>\n",
       "    </tr>\n",
       "    <tr>\n",
       "      <th>5</th>\n",
       "      <td>35</td>\n",
       "      <td>3800</td>\n",
       "      <td>Low</td>\n",
       "    </tr>\n",
       "    <tr>\n",
       "      <th>6</th>\n",
       "      <td>40</td>\n",
       "      <td>4000</td>\n",
       "      <td>High</td>\n",
       "    </tr>\n",
       "    <tr>\n",
       "      <th>7</th>\n",
       "      <td>45</td>\n",
       "      <td>4200</td>\n",
       "      <td>High</td>\n",
       "    </tr>\n",
       "    <tr>\n",
       "      <th>8</th>\n",
       "      <td>50</td>\n",
       "      <td>4300</td>\n",
       "      <td>Low</td>\n",
       "    </tr>\n",
       "    <tr>\n",
       "      <th>9</th>\n",
       "      <td>55</td>\n",
       "      <td>4500</td>\n",
       "      <td>Low</td>\n",
       "    </tr>\n",
       "    <tr>\n",
       "      <th>10</th>\n",
       "      <td>60</td>\n",
       "      <td>5000</td>\n",
       "      <td>High</td>\n",
       "    </tr>\n",
       "    <tr>\n",
       "      <th>11</th>\n",
       "      <td>65</td>\n",
       "      <td>5500</td>\n",
       "      <td>High</td>\n",
       "    </tr>\n",
       "    <tr>\n",
       "      <th>12</th>\n",
       "      <td>70</td>\n",
       "      <td>6000</td>\n",
       "      <td>Low</td>\n",
       "    </tr>\n",
       "  </tbody>\n",
       "</table>\n",
       "</div>"
      ],
      "text/plain": [
       "    Age  Income Class\n",
       "0    22    2000  High\n",
       "1    25    2500   Low\n",
       "2    27    2700   Low\n",
       "3    28    3200  High\n",
       "4    30    3500  High\n",
       "5    35    3800   Low\n",
       "6    40    4000  High\n",
       "7    45    4200  High\n",
       "8    50    4300   Low\n",
       "9    55    4500   Low\n",
       "10   60    5000  High\n",
       "11   65    5500  High\n",
       "12   70    6000   Low"
      ]
     },
     "execution_count": 17,
     "metadata": {},
     "output_type": "execute_result"
    }
   ],
   "source": [
    "#Sample dataset\n",
    "df = pd.DataFrame({\n",
    "    'Age': [22,25,27,28,30,35,40,45,50,55,60,65,70],\n",
    "    'Income': [2000, 2500, 2700, 3200, 3500, 3800, 4000, 4200, 4300, 4500, 5000, 5500, 6000],\n",
    "    'Class': ['High','Low','Low','High','High','Low','High','High','Low','Low','High','High','Low']\n",
    "})\n",
    "df"
   ]
  },
  {
   "cell_type": "markdown",
   "id": "b5cd780f",
   "metadata": {},
   "source": [
    "High Class has 7 Instances\n",
    "\n",
    "Low class has 6 Instances"
   ]
  },
  {
   "cell_type": "code",
   "execution_count": 18,
   "id": "68fccf6c",
   "metadata": {},
   "outputs": [],
   "source": [
    "#Separate majority and minority classes\n",
    "df_high = df[df['Class'] == 'High']\n",
    "df_low = df[df['Class'] == 'Low']"
   ]
  },
  {
   "cell_type": "markdown",
   "id": "a64390d7",
   "metadata": {},
   "source": [
    "**DownScaling**"
   ]
  },
  {
   "cell_type": "code",
   "execution_count": 19,
   "id": "a2d7c35c",
   "metadata": {},
   "outputs": [
    {
     "data": {
      "text/html": [
       "<div>\n",
       "<style scoped>\n",
       "    .dataframe tbody tr th:only-of-type {\n",
       "        vertical-align: middle;\n",
       "    }\n",
       "\n",
       "    .dataframe tbody tr th {\n",
       "        vertical-align: top;\n",
       "    }\n",
       "\n",
       "    .dataframe thead th {\n",
       "        text-align: right;\n",
       "    }\n",
       "</style>\n",
       "<table border=\"1\" class=\"dataframe\">\n",
       "  <thead>\n",
       "    <tr style=\"text-align: right;\">\n",
       "      <th></th>\n",
       "      <th>Age</th>\n",
       "      <th>Income</th>\n",
       "      <th>Class</th>\n",
       "    </tr>\n",
       "  </thead>\n",
       "  <tbody>\n",
       "    <tr>\n",
       "      <th>0</th>\n",
       "      <td>22</td>\n",
       "      <td>2000</td>\n",
       "      <td>High</td>\n",
       "    </tr>\n",
       "    <tr>\n",
       "      <th>3</th>\n",
       "      <td>28</td>\n",
       "      <td>3200</td>\n",
       "      <td>High</td>\n",
       "    </tr>\n",
       "    <tr>\n",
       "      <th>10</th>\n",
       "      <td>60</td>\n",
       "      <td>5000</td>\n",
       "      <td>High</td>\n",
       "    </tr>\n",
       "    <tr>\n",
       "      <th>4</th>\n",
       "      <td>30</td>\n",
       "      <td>3500</td>\n",
       "      <td>High</td>\n",
       "    </tr>\n",
       "    <tr>\n",
       "      <th>7</th>\n",
       "      <td>45</td>\n",
       "      <td>4200</td>\n",
       "      <td>High</td>\n",
       "    </tr>\n",
       "    <tr>\n",
       "      <th>6</th>\n",
       "      <td>40</td>\n",
       "      <td>4000</td>\n",
       "      <td>High</td>\n",
       "    </tr>\n",
       "  </tbody>\n",
       "</table>\n",
       "</div>"
      ],
      "text/plain": [
       "    Age  Income Class\n",
       "0    22    2000  High\n",
       "3    28    3200  High\n",
       "10   60    5000  High\n",
       "4    30    3500  High\n",
       "7    45    4200  High\n",
       "6    40    4000  High"
      ]
     },
     "execution_count": 19,
     "metadata": {},
     "output_type": "execute_result"
    }
   ],
   "source": [
    "#Downsample majority class\n",
    "df_high_downsampled = resample(df_high, replace=False, n_samples=len(df_low), random_state=42)\n",
    "df_high_downsampled"
   ]
  },
  {
   "cell_type": "code",
   "execution_count": 20,
   "id": "fe512739",
   "metadata": {},
   "outputs": [],
   "source": [
    "#Combine downsampled(reducing high) majority with minority class\n",
    "df_balanced_down = pd.concat([df_high_downsampled, df_low])"
   ]
  },
  {
   "cell_type": "code",
   "execution_count": 21,
   "id": "0ea5b548",
   "metadata": {},
   "outputs": [
    {
     "name": "stdout",
     "output_type": "stream",
     "text": [
      "Class\n",
      "High    6\n",
      "Low     6\n",
      "Name: count, dtype: int64\n"
     ]
    }
   ],
   "source": [
    "print(df_balanced_down['Class'].value_counts())"
   ]
  },
  {
   "cell_type": "markdown",
   "id": "e4b3c760",
   "metadata": {},
   "source": [
    "**UpScaling**"
   ]
  },
  {
   "cell_type": "code",
   "execution_count": 22,
   "id": "b47759b2",
   "metadata": {},
   "outputs": [
    {
     "data": {
      "text/html": [
       "<div>\n",
       "<style scoped>\n",
       "    .dataframe tbody tr th:only-of-type {\n",
       "        vertical-align: middle;\n",
       "    }\n",
       "\n",
       "    .dataframe tbody tr th {\n",
       "        vertical-align: top;\n",
       "    }\n",
       "\n",
       "    .dataframe thead th {\n",
       "        text-align: right;\n",
       "    }\n",
       "</style>\n",
       "<table border=\"1\" class=\"dataframe\">\n",
       "  <thead>\n",
       "    <tr style=\"text-align: right;\">\n",
       "      <th></th>\n",
       "      <th>Age</th>\n",
       "      <th>Income</th>\n",
       "      <th>Class</th>\n",
       "    </tr>\n",
       "  </thead>\n",
       "  <tbody>\n",
       "    <tr>\n",
       "      <th>8</th>\n",
       "      <td>50</td>\n",
       "      <td>4300</td>\n",
       "      <td>Low</td>\n",
       "    </tr>\n",
       "    <tr>\n",
       "      <th>9</th>\n",
       "      <td>55</td>\n",
       "      <td>4500</td>\n",
       "      <td>Low</td>\n",
       "    </tr>\n",
       "    <tr>\n",
       "      <th>5</th>\n",
       "      <td>35</td>\n",
       "      <td>3800</td>\n",
       "      <td>Low</td>\n",
       "    </tr>\n",
       "    <tr>\n",
       "      <th>9</th>\n",
       "      <td>55</td>\n",
       "      <td>4500</td>\n",
       "      <td>Low</td>\n",
       "    </tr>\n",
       "    <tr>\n",
       "      <th>9</th>\n",
       "      <td>55</td>\n",
       "      <td>4500</td>\n",
       "      <td>Low</td>\n",
       "    </tr>\n",
       "    <tr>\n",
       "      <th>2</th>\n",
       "      <td>27</td>\n",
       "      <td>2700</td>\n",
       "      <td>Low</td>\n",
       "    </tr>\n",
       "    <tr>\n",
       "      <th>5</th>\n",
       "      <td>35</td>\n",
       "      <td>3800</td>\n",
       "      <td>Low</td>\n",
       "    </tr>\n",
       "  </tbody>\n",
       "</table>\n",
       "</div>"
      ],
      "text/plain": [
       "   Age  Income Class\n",
       "8   50    4300   Low\n",
       "9   55    4500   Low\n",
       "5   35    3800   Low\n",
       "9   55    4500   Low\n",
       "9   55    4500   Low\n",
       "2   27    2700   Low\n",
       "5   35    3800   Low"
      ]
     },
     "execution_count": 22,
     "metadata": {},
     "output_type": "execute_result"
    }
   ],
   "source": [
    "#Upsample majority class\n",
    "df_low_upsampled = resample(df_low, replace=True, n_samples=len(df_high), random_state=42)\n",
    "df_low_upsampled"
   ]
  },
  {
   "cell_type": "code",
   "execution_count": 23,
   "id": "526c584b",
   "metadata": {},
   "outputs": [],
   "source": [
    "#Combine upsampled(increasing low) minority with majority class\n",
    "df_balanced_up = pd.concat([df_low_upsampled, df_high])"
   ]
  },
  {
   "cell_type": "code",
   "execution_count": 24,
   "id": "c46ffbe3",
   "metadata": {},
   "outputs": [
    {
     "name": "stdout",
     "output_type": "stream",
     "text": [
      "Class\n",
      "Low     7\n",
      "High    7\n",
      "Name: count, dtype: int64\n"
     ]
    }
   ],
   "source": [
    "print(df_balanced_up['Class'].value_counts())"
   ]
  },
  {
   "cell_type": "code",
   "execution_count": 25,
   "id": "be20cd64",
   "metadata": {},
   "outputs": [
    {
     "name": "stdout",
     "output_type": "stream",
     "text": [
      "Requirement already satisfied: scikit-learn in c:\\users\\cvr\\anaconda3\\lib\\site-packages (1.6.1)\n",
      "Requirement already satisfied: imbalanced-learn in c:\\users\\cvr\\anaconda3\\lib\\site-packages (0.13.0)\n",
      "Requirement already satisfied: numpy>=1.19.5 in c:\\users\\cvr\\anaconda3\\lib\\site-packages (from scikit-learn) (1.24.3)\n",
      "Requirement already satisfied: scipy>=1.6.0 in c:\\users\\cvr\\anaconda3\\lib\\site-packages (from scikit-learn) (1.11.1)\n",
      "Requirement already satisfied: joblib>=1.2.0 in c:\\users\\cvr\\anaconda3\\lib\\site-packages (from scikit-learn) (1.2.0)\n",
      "Requirement already satisfied: threadpoolctl>=3.1.0 in c:\\users\\cvr\\anaconda3\\lib\\site-packages (from scikit-learn) (3.5.0)\n",
      "Requirement already satisfied: sklearn-compat<1,>=0.1 in c:\\users\\cvr\\anaconda3\\lib\\site-packages (from imbalanced-learn) (0.1.3)\n",
      "Note: you may need to restart the kernel to use updated packages.\n"
     ]
    }
   ],
   "source": [
    "pip install -U scikit-learn imbalanced-learn "
   ]
  },
  {
   "cell_type": "code",
   "execution_count": 26,
   "id": "85ad77c7",
   "metadata": {},
   "outputs": [
    {
     "name": "stdout",
     "output_type": "stream",
     "text": [
      "Class\n",
      "Minority    9\n",
      "Majority    9\n",
      "Name: count, dtype: int64\n",
      "    Age  Income     Class\n",
      "0    22    2000  Minority\n",
      "1    25    2500  Majority\n",
      "2    27    2700  Majority\n",
      "3    28    3200  Majority\n",
      "4    30    3500  Majority\n",
      "5    35    3800  Minority\n",
      "6    40    4000  Minority\n",
      "7    45    4200  Minority\n",
      "8    50    4300  Majority\n",
      "9    55    4500  Majority\n",
      "10   60    5000  Majority\n",
      "11   65    5500  Majority\n",
      "12   70    6000  Majority\n",
      "13   40    4031  Minority\n",
      "14   35    3831  Minority\n",
      "15   44    4176  Minority\n",
      "16   35    3826  Minority\n",
      "17   41    4040  Minority\n"
     ]
    }
   ],
   "source": [
    "from imblearn.over_sampling import SMOTE\n",
    "\n",
    "#Sample Dataset\n",
    "df = pd.DataFrame({\n",
    "    'Age': [22,25,27,28,30,35,40,45,50,55,60,65,70],\n",
    "    'Income': [2000,2500,2700,3200,3500,3800,4000,4200,4300,4500,5000,5500,6000],\n",
    "    'Class': ['Minority', 'Majority','Majority','Majority','Majority','Minority','Minority','Minority','Majority','Majority','Majority','Majority','Majority']\n",
    "})\n",
    "\n",
    "#1.convert categorical labels to numeric\n",
    "df['Class']=df['Class'].map({'Majority':0,'Minority':1})\n",
    "\n",
    "# 2.Separate features (X) and target (y)\n",
    "X = df[['Age', 'Income']]  # Features\n",
    "y = df['Class']  # Target variable\n",
    "\n",
    "# 3.Apply SMOTE to generate synthetic samples for the minority class\n",
    "smote = SMOTE(sampling_strategy='auto', random_state=42,k_neighbors=3)  # 'auto' balances classes\n",
    "X_resampled, y_resampled = smote.fit_resample(X, y)\n",
    "\n",
    "#4.convertin numeric labels back to categorical\n",
    "y_resampled=y_resampled.map({0:'Majority',1:'Minority'})\n",
    "\n",
    "#5.combine the resampled dataset\n",
    "df_balanced=pd.concat([pd.DataFrame(X_resampled,columns=['Age','Income']),pd.DataFrame(y_resampled,columns=['Class'])],axis=1)\n",
    "\n",
    "#6.print class  distribution\n",
    "print(df_balanced['Class'].value_counts())\n",
    "\n",
    " #7.display the upsampled dataset\n",
    "print(df_balanced)"
   ]
  },
  {
   "cell_type": "code",
   "execution_count": null,
   "id": "a7a4e427",
   "metadata": {},
   "outputs": [],
   "source": []
  }
 ],
 "metadata": {
  "kernelspec": {
   "display_name": "Python 3 (ipykernel)",
   "language": "python",
   "name": "python3"
  },
  "language_info": {
   "codemirror_mode": {
    "name": "ipython",
    "version": 3
   },
   "file_extension": ".py",
   "mimetype": "text/x-python",
   "name": "python",
   "nbconvert_exporter": "python",
   "pygments_lexer": "ipython3",
   "version": "3.11.5"
  }
 },
 "nbformat": 4,
 "nbformat_minor": 5
}
