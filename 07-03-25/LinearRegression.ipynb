{
  "nbformat": 4,
  "nbformat_minor": 0,
  "metadata": {
    "colab": {
      "provenance": []
    },
    "kernelspec": {
      "name": "python3",
      "display_name": "Python 3"
    },
    "language_info": {
      "name": "python"
    }
  },
  "cells": [
    {
      "cell_type": "code",
      "execution_count": 23,
      "metadata": {
        "colab": {
          "base_uri": "https://localhost:8080/"
        },
        "id": "bZr_KugJ7eN2",
        "outputId": "061cc4f7-e684-4378-ccf2-482b41be94c1"
      },
      "outputs": [
        {
          "output_type": "stream",
          "name": "stdout",
          "text": [
            "y=0.4x + 2.4\n"
          ]
        }
      ],
      "source": [
        "import numpy as np\n",
        "def LinearRegression(x,y):\n",
        "  x_m = np.mean(x)\n",
        "  y_m = np.mean(y)\n",
        "  numerator = 0\n",
        "  denominator = 0\n",
        "  n = len(x)\n",
        "  for i in range(n):\n",
        "    numerator = numerator + (x[i]-x_m) * (y[i]-y_m)\n",
        "    denominator = denominator + (x[i]-x_m) ** 2\n",
        "  m = numerator / denominator\n",
        "  c = y_m - (m * x_m)\n",
        "  return m,c\n",
        "\n",
        "x=[1,2,3,4,5]\n",
        "y=[3,4,2,4,5]\n",
        "\n",
        "m,c = LinearRegression(x,y)\n",
        "print(f\"y={m}x + {c}\")"
      ]
    },
    {
      "cell_type": "code",
      "source": [
        "def Predict(x):\n",
        "  y_p = []\n",
        "  for i in range(len(x)):\n",
        "    y_p.append(m * x[i] + c)\n",
        "  return y_p\n",
        "y_p = Predict(x)\n",
        "print(f\"y = {y_p}\")"
      ],
      "metadata": {
        "colab": {
          "base_uri": "https://localhost:8080/"
        },
        "id": "Uq4EGI1q96F_",
        "outputId": "a4255b26-eaf2-4f45-9837-d537eb5c4025"
      },
      "execution_count": 24,
      "outputs": [
        {
          "output_type": "stream",
          "name": "stdout",
          "text": [
            "y = [2.8, 3.2, 3.6, 4.0, 4.4]\n"
          ]
        }
      ]
    },
    {
      "cell_type": "code",
      "source": [
        "y_m = np.mean(y)\n",
        "r2 = 1 - ((sum(y_p - y_m) ** 2) / (sum(y - y_m) ** 2))\n",
        "print(f\"r2 = {r2}\")"
      ],
      "metadata": {
        "colab": {
          "base_uri": "https://localhost:8080/"
        },
        "id": "Mc19cw2BAJIg",
        "outputId": "8306c5f1-a0b2-4e11-ca5e-c59af4975384"
      },
      "execution_count": 25,
      "outputs": [
        {
          "output_type": "stream",
          "name": "stdout",
          "text": [
            "r2 = 1.0\n"
          ]
        }
      ]
    },
    {
      "cell_type": "code",
      "source": [
        "y,y_p"
      ],
      "metadata": {
        "colab": {
          "base_uri": "https://localhost:8080/"
        },
        "id": "Uj5vqxZpCLFo",
        "outputId": "59e0a057-6428-469b-f68e-d9d1b2e0e133"
      },
      "execution_count": 26,
      "outputs": [
        {
          "output_type": "execute_result",
          "data": {
            "text/plain": [
              "([3, 4, 2, 4, 5], [2.8, 3.2, 3.6, 4.0, 4.4])"
            ]
          },
          "metadata": {},
          "execution_count": 26
        }
      ]
    },
    {
      "cell_type": "code",
      "source": [
        "def r2score(y,y_p):\n",
        "  ym = np.mean(y)\n",
        "  print(ym)\n",
        "  numerator = 0\n",
        "  denominator = 0\n",
        "  n = len(y)\n",
        "  for i in range(n):\n",
        "    numerator = numerator + (y_p - ym) ** 2\n",
        "    denominator = denominator + (y - ym) ** 2\n",
        "  return numerator / denominator;\n",
        "r2score(y,y_p)\n"
      ],
      "metadata": {
        "colab": {
          "base_uri": "https://localhost:8080/"
        },
        "id": "gxDmJGs6CqeX",
        "outputId": "9721ecae-44ee-40ea-fa45-b2b0c9267c42"
      },
      "execution_count": 27,
      "outputs": [
        {
          "output_type": "stream",
          "name": "stdout",
          "text": [
            "3.6\n"
          ]
        },
        {
          "output_type": "execute_result",
          "data": {
            "text/plain": [
              "array([1.77777778, 1.        , 0.        , 1.        , 0.32653061])"
            ]
          },
          "metadata": {},
          "execution_count": 27
        }
      ]
    },
    {
      "cell_type": "code",
      "source": [
        "print(f\"Accuracy : {1 - r2score(y,y_p)}\")"
      ],
      "metadata": {
        "colab": {
          "base_uri": "https://localhost:8080/"
        },
        "id": "S836czeqPANB",
        "outputId": "71e20f93-d76d-4dc8-833f-970678a4bcde"
      },
      "execution_count": 29,
      "outputs": [
        {
          "output_type": "stream",
          "name": "stdout",
          "text": [
            "3.6\n",
            "Accuracy : [-0.77777778  0.          1.          0.          0.67346939]\n"
          ]
        }
      ]
    },
    {
      "cell_type": "code",
      "source": [
        "import pandas as pd\n",
        "df = pd.read_csv(\"headbrain.csv\")\n",
        "df.head()"
      ],
      "metadata": {
        "colab": {
          "base_uri": "https://localhost:8080/",
          "height": 206
        },
        "id": "oxiN2jtnNUmx",
        "outputId": "3328c906-2fb8-4b11-f1ec-7c26e0c19f0d"
      },
      "execution_count": 30,
      "outputs": [
        {
          "output_type": "execute_result",
          "data": {
            "text/plain": [
              "   Gender  Age Range  Head Size(cm^3)  Brain Weight(grams)\n",
              "0       1          1             4512                 1530\n",
              "1       1          1             3738                 1297\n",
              "2       1          1             4261                 1335\n",
              "3       1          1             3777                 1282\n",
              "4       1          1             4177                 1590"
            ],
            "text/html": [
              "\n",
              "  <div id=\"df-8d14c401-7e97-458b-a10f-36f0237f9033\" class=\"colab-df-container\">\n",
              "    <div>\n",
              "<style scoped>\n",
              "    .dataframe tbody tr th:only-of-type {\n",
              "        vertical-align: middle;\n",
              "    }\n",
              "\n",
              "    .dataframe tbody tr th {\n",
              "        vertical-align: top;\n",
              "    }\n",
              "\n",
              "    .dataframe thead th {\n",
              "        text-align: right;\n",
              "    }\n",
              "</style>\n",
              "<table border=\"1\" class=\"dataframe\">\n",
              "  <thead>\n",
              "    <tr style=\"text-align: right;\">\n",
              "      <th></th>\n",
              "      <th>Gender</th>\n",
              "      <th>Age Range</th>\n",
              "      <th>Head Size(cm^3)</th>\n",
              "      <th>Brain Weight(grams)</th>\n",
              "    </tr>\n",
              "  </thead>\n",
              "  <tbody>\n",
              "    <tr>\n",
              "      <th>0</th>\n",
              "      <td>1</td>\n",
              "      <td>1</td>\n",
              "      <td>4512</td>\n",
              "      <td>1530</td>\n",
              "    </tr>\n",
              "    <tr>\n",
              "      <th>1</th>\n",
              "      <td>1</td>\n",
              "      <td>1</td>\n",
              "      <td>3738</td>\n",
              "      <td>1297</td>\n",
              "    </tr>\n",
              "    <tr>\n",
              "      <th>2</th>\n",
              "      <td>1</td>\n",
              "      <td>1</td>\n",
              "      <td>4261</td>\n",
              "      <td>1335</td>\n",
              "    </tr>\n",
              "    <tr>\n",
              "      <th>3</th>\n",
              "      <td>1</td>\n",
              "      <td>1</td>\n",
              "      <td>3777</td>\n",
              "      <td>1282</td>\n",
              "    </tr>\n",
              "    <tr>\n",
              "      <th>4</th>\n",
              "      <td>1</td>\n",
              "      <td>1</td>\n",
              "      <td>4177</td>\n",
              "      <td>1590</td>\n",
              "    </tr>\n",
              "  </tbody>\n",
              "</table>\n",
              "</div>\n",
              "    <div class=\"colab-df-buttons\">\n",
              "\n",
              "  <div class=\"colab-df-container\">\n",
              "    <button class=\"colab-df-convert\" onclick=\"convertToInteractive('df-8d14c401-7e97-458b-a10f-36f0237f9033')\"\n",
              "            title=\"Convert this dataframe to an interactive table.\"\n",
              "            style=\"display:none;\">\n",
              "\n",
              "  <svg xmlns=\"http://www.w3.org/2000/svg\" height=\"24px\" viewBox=\"0 -960 960 960\">\n",
              "    <path d=\"M120-120v-720h720v720H120Zm60-500h600v-160H180v160Zm220 220h160v-160H400v160Zm0 220h160v-160H400v160ZM180-400h160v-160H180v160Zm440 0h160v-160H620v160ZM180-180h160v-160H180v160Zm440 0h160v-160H620v160Z\"/>\n",
              "  </svg>\n",
              "    </button>\n",
              "\n",
              "  <style>\n",
              "    .colab-df-container {\n",
              "      display:flex;\n",
              "      gap: 12px;\n",
              "    }\n",
              "\n",
              "    .colab-df-convert {\n",
              "      background-color: #E8F0FE;\n",
              "      border: none;\n",
              "      border-radius: 50%;\n",
              "      cursor: pointer;\n",
              "      display: none;\n",
              "      fill: #1967D2;\n",
              "      height: 32px;\n",
              "      padding: 0 0 0 0;\n",
              "      width: 32px;\n",
              "    }\n",
              "\n",
              "    .colab-df-convert:hover {\n",
              "      background-color: #E2EBFA;\n",
              "      box-shadow: 0px 1px 2px rgba(60, 64, 67, 0.3), 0px 1px 3px 1px rgba(60, 64, 67, 0.15);\n",
              "      fill: #174EA6;\n",
              "    }\n",
              "\n",
              "    .colab-df-buttons div {\n",
              "      margin-bottom: 4px;\n",
              "    }\n",
              "\n",
              "    [theme=dark] .colab-df-convert {\n",
              "      background-color: #3B4455;\n",
              "      fill: #D2E3FC;\n",
              "    }\n",
              "\n",
              "    [theme=dark] .colab-df-convert:hover {\n",
              "      background-color: #434B5C;\n",
              "      box-shadow: 0px 1px 3px 1px rgba(0, 0, 0, 0.15);\n",
              "      filter: drop-shadow(0px 1px 2px rgba(0, 0, 0, 0.3));\n",
              "      fill: #FFFFFF;\n",
              "    }\n",
              "  </style>\n",
              "\n",
              "    <script>\n",
              "      const buttonEl =\n",
              "        document.querySelector('#df-8d14c401-7e97-458b-a10f-36f0237f9033 button.colab-df-convert');\n",
              "      buttonEl.style.display =\n",
              "        google.colab.kernel.accessAllowed ? 'block' : 'none';\n",
              "\n",
              "      async function convertToInteractive(key) {\n",
              "        const element = document.querySelector('#df-8d14c401-7e97-458b-a10f-36f0237f9033');\n",
              "        const dataTable =\n",
              "          await google.colab.kernel.invokeFunction('convertToInteractive',\n",
              "                                                    [key], {});\n",
              "        if (!dataTable) return;\n",
              "\n",
              "        const docLinkHtml = 'Like what you see? Visit the ' +\n",
              "          '<a target=\"_blank\" href=https://colab.research.google.com/notebooks/data_table.ipynb>data table notebook</a>'\n",
              "          + ' to learn more about interactive tables.';\n",
              "        element.innerHTML = '';\n",
              "        dataTable['output_type'] = 'display_data';\n",
              "        await google.colab.output.renderOutput(dataTable, element);\n",
              "        const docLink = document.createElement('div');\n",
              "        docLink.innerHTML = docLinkHtml;\n",
              "        element.appendChild(docLink);\n",
              "      }\n",
              "    </script>\n",
              "  </div>\n",
              "\n",
              "\n",
              "<div id=\"df-cf075d34-481e-4cfd-bdbf-60d7b31d0170\">\n",
              "  <button class=\"colab-df-quickchart\" onclick=\"quickchart('df-cf075d34-481e-4cfd-bdbf-60d7b31d0170')\"\n",
              "            title=\"Suggest charts\"\n",
              "            style=\"display:none;\">\n",
              "\n",
              "<svg xmlns=\"http://www.w3.org/2000/svg\" height=\"24px\"viewBox=\"0 0 24 24\"\n",
              "     width=\"24px\">\n",
              "    <g>\n",
              "        <path d=\"M19 3H5c-1.1 0-2 .9-2 2v14c0 1.1.9 2 2 2h14c1.1 0 2-.9 2-2V5c0-1.1-.9-2-2-2zM9 17H7v-7h2v7zm4 0h-2V7h2v10zm4 0h-2v-4h2v4z\"/>\n",
              "    </g>\n",
              "</svg>\n",
              "  </button>\n",
              "\n",
              "<style>\n",
              "  .colab-df-quickchart {\n",
              "      --bg-color: #E8F0FE;\n",
              "      --fill-color: #1967D2;\n",
              "      --hover-bg-color: #E2EBFA;\n",
              "      --hover-fill-color: #174EA6;\n",
              "      --disabled-fill-color: #AAA;\n",
              "      --disabled-bg-color: #DDD;\n",
              "  }\n",
              "\n",
              "  [theme=dark] .colab-df-quickchart {\n",
              "      --bg-color: #3B4455;\n",
              "      --fill-color: #D2E3FC;\n",
              "      --hover-bg-color: #434B5C;\n",
              "      --hover-fill-color: #FFFFFF;\n",
              "      --disabled-bg-color: #3B4455;\n",
              "      --disabled-fill-color: #666;\n",
              "  }\n",
              "\n",
              "  .colab-df-quickchart {\n",
              "    background-color: var(--bg-color);\n",
              "    border: none;\n",
              "    border-radius: 50%;\n",
              "    cursor: pointer;\n",
              "    display: none;\n",
              "    fill: var(--fill-color);\n",
              "    height: 32px;\n",
              "    padding: 0;\n",
              "    width: 32px;\n",
              "  }\n",
              "\n",
              "  .colab-df-quickchart:hover {\n",
              "    background-color: var(--hover-bg-color);\n",
              "    box-shadow: 0 1px 2px rgba(60, 64, 67, 0.3), 0 1px 3px 1px rgba(60, 64, 67, 0.15);\n",
              "    fill: var(--button-hover-fill-color);\n",
              "  }\n",
              "\n",
              "  .colab-df-quickchart-complete:disabled,\n",
              "  .colab-df-quickchart-complete:disabled:hover {\n",
              "    background-color: var(--disabled-bg-color);\n",
              "    fill: var(--disabled-fill-color);\n",
              "    box-shadow: none;\n",
              "  }\n",
              "\n",
              "  .colab-df-spinner {\n",
              "    border: 2px solid var(--fill-color);\n",
              "    border-color: transparent;\n",
              "    border-bottom-color: var(--fill-color);\n",
              "    animation:\n",
              "      spin 1s steps(1) infinite;\n",
              "  }\n",
              "\n",
              "  @keyframes spin {\n",
              "    0% {\n",
              "      border-color: transparent;\n",
              "      border-bottom-color: var(--fill-color);\n",
              "      border-left-color: var(--fill-color);\n",
              "    }\n",
              "    20% {\n",
              "      border-color: transparent;\n",
              "      border-left-color: var(--fill-color);\n",
              "      border-top-color: var(--fill-color);\n",
              "    }\n",
              "    30% {\n",
              "      border-color: transparent;\n",
              "      border-left-color: var(--fill-color);\n",
              "      border-top-color: var(--fill-color);\n",
              "      border-right-color: var(--fill-color);\n",
              "    }\n",
              "    40% {\n",
              "      border-color: transparent;\n",
              "      border-right-color: var(--fill-color);\n",
              "      border-top-color: var(--fill-color);\n",
              "    }\n",
              "    60% {\n",
              "      border-color: transparent;\n",
              "      border-right-color: var(--fill-color);\n",
              "    }\n",
              "    80% {\n",
              "      border-color: transparent;\n",
              "      border-right-color: var(--fill-color);\n",
              "      border-bottom-color: var(--fill-color);\n",
              "    }\n",
              "    90% {\n",
              "      border-color: transparent;\n",
              "      border-bottom-color: var(--fill-color);\n",
              "    }\n",
              "  }\n",
              "</style>\n",
              "\n",
              "  <script>\n",
              "    async function quickchart(key) {\n",
              "      const quickchartButtonEl =\n",
              "        document.querySelector('#' + key + ' button');\n",
              "      quickchartButtonEl.disabled = true;  // To prevent multiple clicks.\n",
              "      quickchartButtonEl.classList.add('colab-df-spinner');\n",
              "      try {\n",
              "        const charts = await google.colab.kernel.invokeFunction(\n",
              "            'suggestCharts', [key], {});\n",
              "      } catch (error) {\n",
              "        console.error('Error during call to suggestCharts:', error);\n",
              "      }\n",
              "      quickchartButtonEl.classList.remove('colab-df-spinner');\n",
              "      quickchartButtonEl.classList.add('colab-df-quickchart-complete');\n",
              "    }\n",
              "    (() => {\n",
              "      let quickchartButtonEl =\n",
              "        document.querySelector('#df-cf075d34-481e-4cfd-bdbf-60d7b31d0170 button');\n",
              "      quickchartButtonEl.style.display =\n",
              "        google.colab.kernel.accessAllowed ? 'block' : 'none';\n",
              "    })();\n",
              "  </script>\n",
              "</div>\n",
              "\n",
              "    </div>\n",
              "  </div>\n"
            ],
            "application/vnd.google.colaboratory.intrinsic+json": {
              "type": "dataframe",
              "variable_name": "df",
              "summary": "{\n  \"name\": \"df\",\n  \"rows\": 237,\n  \"fields\": [\n    {\n      \"column\": \"Gender\",\n      \"properties\": {\n        \"dtype\": \"number\",\n        \"std\": 0,\n        \"min\": 1,\n        \"max\": 2,\n        \"num_unique_values\": 2,\n        \"samples\": [\n          2,\n          1\n        ],\n        \"semantic_type\": \"\",\n        \"description\": \"\"\n      }\n    },\n    {\n      \"column\": \"Age Range\",\n      \"properties\": {\n        \"dtype\": \"number\",\n        \"std\": 0,\n        \"min\": 1,\n        \"max\": 2,\n        \"num_unique_values\": 2,\n        \"samples\": [\n          2,\n          1\n        ],\n        \"semantic_type\": \"\",\n        \"description\": \"\"\n      }\n    },\n    {\n      \"column\": \"Head Size(cm^3)\",\n      \"properties\": {\n        \"dtype\": \"number\",\n        \"std\": 365,\n        \"min\": 2720,\n        \"max\": 4747,\n        \"num_unique_values\": 221,\n        \"samples\": [\n          3302,\n          3853\n        ],\n        \"semantic_type\": \"\",\n        \"description\": \"\"\n      }\n    },\n    {\n      \"column\": \"Brain Weight(grams)\",\n      \"properties\": {\n        \"dtype\": \"number\",\n        \"std\": 120,\n        \"min\": 955,\n        \"max\": 1635,\n        \"num_unique_values\": 146,\n        \"samples\": [\n          1330,\n          1334\n        ],\n        \"semantic_type\": \"\",\n        \"description\": \"\"\n      }\n    }\n  ]\n}"
            }
          },
          "metadata": {},
          "execution_count": 30
        }
      ]
    },
    {
      "cell_type": "code",
      "source": [
        "import numpy as np\n",
        "def LinearRegression(x,y):\n",
        "  x_m = np.mean(x)\n",
        "  y_m = np.mean(y)\n",
        "  numerator = 0\n",
        "  denominator = 0\n",
        "  n = len(x)\n",
        "  for i in range(n):\n",
        "    numerator = numerator + (x[i]-x_m) * (y[i]-y_m)\n",
        "    denominator = denominator + (x[i]-x_m) ** 2\n",
        "  m = numerator / denominator\n",
        "  c = y_m - (m * x_m)\n",
        "  return m,c\n",
        "\n",
        "x=df[\"Head Size(cm^3)\"].values\n",
        "y=df[\"Brain Weight(grams)\"].values\n",
        "\n",
        "m,c = LinearRegression(x,y)\n",
        "print(f\"y={m}x + {c}\")\n"
      ],
      "metadata": {
        "colab": {
          "base_uri": "https://localhost:8080/"
        },
        "id": "j37YB8AkNi-I",
        "outputId": "2ab5c541-5e17-4ae0-fe62-bf66f40c8d38"
      },
      "execution_count": 31,
      "outputs": [
        {
          "output_type": "stream",
          "name": "stdout",
          "text": [
            "y=0.26342933948939945x + 325.57342104944223\n"
          ]
        }
      ]
    },
    {
      "cell_type": "code",
      "source": [
        "def predict(x):\n",
        "  y_p = []\n",
        "  for i in range(len(x)):\n",
        "    y_p.append(m * x[i] + c)\n",
        "  return y_p\n",
        "y_p = predict(x)\n",
        "print(f\"y = {y_p}\")"
      ],
      "metadata": {
        "colab": {
          "base_uri": "https://localhost:8080/"
        },
        "id": "RvNShL3DN0nZ",
        "outputId": "41b3950d-f299-4cc7-d0d4-6b9fa8bd8046"
      },
      "execution_count": 32,
      "outputs": [
        {
          "output_type": "stream",
          "name": "stdout",
          "text": [
            "y = [1514.1666008256125, 1310.2722920608173, 1448.0458366137732, 1320.546036300904, 1425.9177720966638, 1269.9676031189392, 1322.6534710168191, 1263.118440292215, 1277.3436246246424, 1374.549050896231, 1232.5606369114446, 1377.4467736306142, 1284.4562167908562, 1434.0840816208351, 1335.034649972821, 1346.6255409103546, 1246.785821243872, 1238.6195117197008, 1140.8872267691336, 1490.9848189505453, 1347.1523995893333, 1391.4085286235525, 1327.6586284671178, 1302.8962705551141, 1576.0724956056215, 1490.721389611056, 1388.7742352286584, 1385.0862244758068, 1235.4583596458278, 1425.390913417685, 1323.1803296957978, 1325.5511937512024, 1406.424000974448, 1421.7029026648333, 1420.9126146463652, 1330.2929218620118, 1254.688701428554, 1312.9065854557114, 1203.8468389071, 1245.468674546425, 1369.2804641064429, 1248.8932559597874, 1462.271020946201, 1327.6586284671178, 1343.2009594969923, 1388.2473765496795, 1460.427015569775, 1159.3272805333913, 1284.7196461303456, 1285.509934148814, 1350.5769810026954, 1324.7609057327345, 1450.4167006691778, 1395.8868273948722, 1382.4519310809128, 1236.5120770037856, 1350.313551663206, 1423.0200493622804, 1362.1678719402291, 1292.0956676360488, 1343.9912475154606, 1219.3891699369747, 1495.7265470613545, 1445.938401897858, 1307.374569326434, 1202.5296922096531, 1225.1846154057414, 1213.8571538076972, 1492.5653949874818, 1479.6573573525013, 1381.3982137229552, 1341.8838127995455, 1411.1657290852575, 1394.3062513579357, 1332.9272152569056, 1219.6525992764641, 1262.8550109527255, 1211.2228604128031, 1360.8507252427821, 1335.824937991289, 1334.5077912938423, 1341.3569541205666, 1181.455345050501, 1267.860168403024, 1361.6410132612502, 1339.77637808363, 1197.261105419865, 1222.8137513503366, 1249.1566852992767, 1354.791850434526, 1421.439473325344, 1199.6319694752697, 1290.2516622596231, 1352.6844157186106, 1300.2619771602203, 1321.0728949798827, 1240.4635170961265, 1244.9418158674462, 1288.144227543708, 1241.7806637935735, 1246.2589625648934, 1335.5615086517996, 1346.6255409103546, 1289.9882329201337, 1278.6607713220894, 1286.5636515067713, 1387.7205178707009, 1220.969745973911, 1357.1627144899305, 1492.5653949874818, 1298.944830462773, 1253.898413410086, 1266.2795923660876, 1272.3384671743438, 1216.7548765420806, 1247.3126799228507, 1271.021320476897, 1352.9478450581, 1409.3217237088315, 1362.6947306192078, 1220.969745973911, 1431.97664690492, 1507.8442966778669, 1277.6070539641319, 1392.7256753209995, 1321.863182998351, 1218.8623112579958, 1148.5266776143262, 1393.2525339999781, 1269.177315100471, 1291.3053796175805, 1256.0058481260012, 1391.4085286235525, 1291.56880895707, 1078.1910439706564, 1230.7166315350187, 1324.2340470537556, 1195.4171000434392, 1143.2580908245382, 1160.907856570328, 1266.543021705577, 1255.4789894470223, 1161.9615739282854, 1231.2434902139976, 1353.7381330765684, 1352.6844157186106, 1221.4966046528898, 1186.19707316131, 1234.6680716273597, 1139.5700800716866, 1224.6577567267625, 1200.9491161727165, 1294.9933903704323, 1231.506919553487, 1340.5666661020982, 1156.9564164779867, 1189.358225235183, 1302.105982536646, 1380.8713550439763, 1186.723931840289, 1134.564922621388, 1321.0728949798827, 1260.2207175578314, 1192.7828066485454, 1246.785821243872, 1137.4626453557712, 1181.1919157110117, 1210.1691430548456, 1327.3951991276283, 1264.9624456686406, 1154.0586937436035, 1248.3663972808085, 1266.2795923660876, 1306.5842813079657, 1277.8704833036213, 1169.3375954339886, 1276.2899072666848, 1263.6452989711938, 1373.7587628777626, 1256.2692774654906, 1297.3642544258369, 1157.4832751569656, 1380.6079257044871, 1163.542149965222, 1242.044093133063, 1284.983075469835, 1282.348782074941, 1134.0380639424093, 1219.6525992764641, 1301.0522651786882, 1159.3272805333913, 1209.115425696888, 1115.8614395176405, 1296.837395746858, 1262.3281522737466, 1056.0629794535469, 1131.1403412080258, 1206.481132301994, 1245.7321038859145, 1194.0999533459922, 1210.6960017338242, 1175.9233289212236, 1188.831366556204, 1340.0398074231196, 1133.5112052634304, 1298.154542444305, 1221.7600339923792, 1377.973632309593, 1199.6319694752697, 1042.1012244606086, 1099.2653911298084, 1268.6504564214922, 1099.7922498087873, 1112.963716783257, 1270.2310324584287, 1156.9564164779867, 1180.6650570320328, 1160.6444272308386, 1186.4605025007995, 1218.3354525790169, 1216.2280178631017, 1080.0350493470823, 1310.799150739796, 1242.044093133063, 1286.300222167282, 1304.4768465920506, 1190.67537193263, 1433.0303642628776, 1309.4820040423492, 1173.2890355263298, 1296.310537067879, 1301.3156945181777, 1172.235318168372, 1219.6525992764641, 1177.2404756186706, 1208.588567017909, 1218.8623112579958]\n"
          ]
        }
      ]
    },
    {
      "cell_type": "code",
      "source": [
        "y_m = np.mean(y)\n",
        "r2 = 1 - ((sum(y_p - y_m) ** 2) / (sum(y - y_m) ** 2))\n",
        "print(f\"r2 = {r2}\")"
      ],
      "metadata": {
        "colab": {
          "base_uri": "https://localhost:8080/"
        },
        "id": "MstrrlmIOJQJ",
        "outputId": "162be229-4483-413c-8c44-d9bec157577e"
      },
      "execution_count": 33,
      "outputs": [
        {
          "output_type": "stream",
          "name": "stdout",
          "text": [
            "r2 = 0.8019517008853924\n"
          ]
        }
      ]
    },
    {
      "cell_type": "code",
      "source": [
        "y,y_p"
      ],
      "metadata": {
        "colab": {
          "base_uri": "https://localhost:8080/"
        },
        "id": "rLZ0bj1COPBw",
        "outputId": "15da7adb-7e1c-4071-c7db-b7c1107ed20a"
      },
      "execution_count": 34,
      "outputs": [
        {
          "output_type": "execute_result",
          "data": {
            "text/plain": [
              "(array([1530, 1297, 1335, 1282, 1590, 1300, 1400, 1255, 1355, 1375, 1340,\n",
              "        1380, 1355, 1522, 1208, 1405, 1358, 1292, 1340, 1400, 1357, 1287,\n",
              "        1275, 1270, 1635, 1505, 1490, 1485, 1310, 1420, 1318, 1432, 1364,\n",
              "        1405, 1432, 1207, 1375, 1350, 1236, 1250, 1350, 1320, 1525, 1570,\n",
              "        1340, 1422, 1506, 1215, 1311, 1300, 1224, 1350, 1335, 1390, 1400,\n",
              "        1225, 1310, 1560, 1330, 1222, 1415, 1175, 1330, 1485, 1470, 1135,\n",
              "        1310, 1154, 1510, 1415, 1468, 1390, 1380, 1432, 1240, 1195, 1225,\n",
              "        1188, 1252, 1315, 1245, 1430, 1279, 1245, 1309, 1412, 1120, 1220,\n",
              "        1280, 1440, 1370, 1192, 1230, 1346, 1290, 1165, 1240, 1132, 1242,\n",
              "        1270, 1218, 1430, 1588, 1320, 1290, 1260, 1425, 1226, 1360, 1620,\n",
              "        1310, 1250, 1295, 1290, 1290, 1275, 1250, 1270, 1362, 1300, 1173,\n",
              "        1256, 1440, 1180, 1306, 1350, 1125, 1165, 1312, 1300, 1270, 1335,\n",
              "        1450, 1310, 1027, 1235, 1260, 1165, 1080, 1127, 1270, 1252, 1200,\n",
              "        1290, 1334, 1380, 1140, 1243, 1340, 1168, 1322, 1249, 1321, 1192,\n",
              "        1373, 1170, 1265, 1235, 1302, 1241, 1078, 1520, 1460, 1075, 1280,\n",
              "        1180, 1250, 1190, 1374, 1306, 1202, 1240, 1316, 1280, 1350, 1180,\n",
              "        1210, 1127, 1324, 1210, 1290, 1100, 1280, 1175, 1160, 1205, 1163,\n",
              "        1022, 1243, 1350, 1237, 1204, 1090, 1355, 1250, 1076, 1120, 1220,\n",
              "        1240, 1220, 1095, 1235, 1105, 1405, 1150, 1305, 1220, 1296, 1175,\n",
              "         955, 1070, 1320, 1060, 1130, 1250, 1225, 1180, 1178, 1142, 1130,\n",
              "        1185, 1012, 1280, 1103, 1408, 1300, 1246, 1380, 1350, 1060, 1350,\n",
              "        1220, 1110, 1215, 1104, 1170, 1120]),\n",
              " [1514.1666008256125,\n",
              "  1310.2722920608173,\n",
              "  1448.0458366137732,\n",
              "  1320.546036300904,\n",
              "  1425.9177720966638,\n",
              "  1269.9676031189392,\n",
              "  1322.6534710168191,\n",
              "  1263.118440292215,\n",
              "  1277.3436246246424,\n",
              "  1374.549050896231,\n",
              "  1232.5606369114446,\n",
              "  1377.4467736306142,\n",
              "  1284.4562167908562,\n",
              "  1434.0840816208351,\n",
              "  1335.034649972821,\n",
              "  1346.6255409103546,\n",
              "  1246.785821243872,\n",
              "  1238.6195117197008,\n",
              "  1140.8872267691336,\n",
              "  1490.9848189505453,\n",
              "  1347.1523995893333,\n",
              "  1391.4085286235525,\n",
              "  1327.6586284671178,\n",
              "  1302.8962705551141,\n",
              "  1576.0724956056215,\n",
              "  1490.721389611056,\n",
              "  1388.7742352286584,\n",
              "  1385.0862244758068,\n",
              "  1235.4583596458278,\n",
              "  1425.390913417685,\n",
              "  1323.1803296957978,\n",
              "  1325.5511937512024,\n",
              "  1406.424000974448,\n",
              "  1421.7029026648333,\n",
              "  1420.9126146463652,\n",
              "  1330.2929218620118,\n",
              "  1254.688701428554,\n",
              "  1312.9065854557114,\n",
              "  1203.8468389071,\n",
              "  1245.468674546425,\n",
              "  1369.2804641064429,\n",
              "  1248.8932559597874,\n",
              "  1462.271020946201,\n",
              "  1327.6586284671178,\n",
              "  1343.2009594969923,\n",
              "  1388.2473765496795,\n",
              "  1460.427015569775,\n",
              "  1159.3272805333913,\n",
              "  1284.7196461303456,\n",
              "  1285.509934148814,\n",
              "  1350.5769810026954,\n",
              "  1324.7609057327345,\n",
              "  1450.4167006691778,\n",
              "  1395.8868273948722,\n",
              "  1382.4519310809128,\n",
              "  1236.5120770037856,\n",
              "  1350.313551663206,\n",
              "  1423.0200493622804,\n",
              "  1362.1678719402291,\n",
              "  1292.0956676360488,\n",
              "  1343.9912475154606,\n",
              "  1219.3891699369747,\n",
              "  1495.7265470613545,\n",
              "  1445.938401897858,\n",
              "  1307.374569326434,\n",
              "  1202.5296922096531,\n",
              "  1225.1846154057414,\n",
              "  1213.8571538076972,\n",
              "  1492.5653949874818,\n",
              "  1479.6573573525013,\n",
              "  1381.3982137229552,\n",
              "  1341.8838127995455,\n",
              "  1411.1657290852575,\n",
              "  1394.3062513579357,\n",
              "  1332.9272152569056,\n",
              "  1219.6525992764641,\n",
              "  1262.8550109527255,\n",
              "  1211.2228604128031,\n",
              "  1360.8507252427821,\n",
              "  1335.824937991289,\n",
              "  1334.5077912938423,\n",
              "  1341.3569541205666,\n",
              "  1181.455345050501,\n",
              "  1267.860168403024,\n",
              "  1361.6410132612502,\n",
              "  1339.77637808363,\n",
              "  1197.261105419865,\n",
              "  1222.8137513503366,\n",
              "  1249.1566852992767,\n",
              "  1354.791850434526,\n",
              "  1421.439473325344,\n",
              "  1199.6319694752697,\n",
              "  1290.2516622596231,\n",
              "  1352.6844157186106,\n",
              "  1300.2619771602203,\n",
              "  1321.0728949798827,\n",
              "  1240.4635170961265,\n",
              "  1244.9418158674462,\n",
              "  1288.144227543708,\n",
              "  1241.7806637935735,\n",
              "  1246.2589625648934,\n",
              "  1335.5615086517996,\n",
              "  1346.6255409103546,\n",
              "  1289.9882329201337,\n",
              "  1278.6607713220894,\n",
              "  1286.5636515067713,\n",
              "  1387.7205178707009,\n",
              "  1220.969745973911,\n",
              "  1357.1627144899305,\n",
              "  1492.5653949874818,\n",
              "  1298.944830462773,\n",
              "  1253.898413410086,\n",
              "  1266.2795923660876,\n",
              "  1272.3384671743438,\n",
              "  1216.7548765420806,\n",
              "  1247.3126799228507,\n",
              "  1271.021320476897,\n",
              "  1352.9478450581,\n",
              "  1409.3217237088315,\n",
              "  1362.6947306192078,\n",
              "  1220.969745973911,\n",
              "  1431.97664690492,\n",
              "  1507.8442966778669,\n",
              "  1277.6070539641319,\n",
              "  1392.7256753209995,\n",
              "  1321.863182998351,\n",
              "  1218.8623112579958,\n",
              "  1148.5266776143262,\n",
              "  1393.2525339999781,\n",
              "  1269.177315100471,\n",
              "  1291.3053796175805,\n",
              "  1256.0058481260012,\n",
              "  1391.4085286235525,\n",
              "  1291.56880895707,\n",
              "  1078.1910439706564,\n",
              "  1230.7166315350187,\n",
              "  1324.2340470537556,\n",
              "  1195.4171000434392,\n",
              "  1143.2580908245382,\n",
              "  1160.907856570328,\n",
              "  1266.543021705577,\n",
              "  1255.4789894470223,\n",
              "  1161.9615739282854,\n",
              "  1231.2434902139976,\n",
              "  1353.7381330765684,\n",
              "  1352.6844157186106,\n",
              "  1221.4966046528898,\n",
              "  1186.19707316131,\n",
              "  1234.6680716273597,\n",
              "  1139.5700800716866,\n",
              "  1224.6577567267625,\n",
              "  1200.9491161727165,\n",
              "  1294.9933903704323,\n",
              "  1231.506919553487,\n",
              "  1340.5666661020982,\n",
              "  1156.9564164779867,\n",
              "  1189.358225235183,\n",
              "  1302.105982536646,\n",
              "  1380.8713550439763,\n",
              "  1186.723931840289,\n",
              "  1134.564922621388,\n",
              "  1321.0728949798827,\n",
              "  1260.2207175578314,\n",
              "  1192.7828066485454,\n",
              "  1246.785821243872,\n",
              "  1137.4626453557712,\n",
              "  1181.1919157110117,\n",
              "  1210.1691430548456,\n",
              "  1327.3951991276283,\n",
              "  1264.9624456686406,\n",
              "  1154.0586937436035,\n",
              "  1248.3663972808085,\n",
              "  1266.2795923660876,\n",
              "  1306.5842813079657,\n",
              "  1277.8704833036213,\n",
              "  1169.3375954339886,\n",
              "  1276.2899072666848,\n",
              "  1263.6452989711938,\n",
              "  1373.7587628777626,\n",
              "  1256.2692774654906,\n",
              "  1297.3642544258369,\n",
              "  1157.4832751569656,\n",
              "  1380.6079257044871,\n",
              "  1163.542149965222,\n",
              "  1242.044093133063,\n",
              "  1284.983075469835,\n",
              "  1282.348782074941,\n",
              "  1134.0380639424093,\n",
              "  1219.6525992764641,\n",
              "  1301.0522651786882,\n",
              "  1159.3272805333913,\n",
              "  1209.115425696888,\n",
              "  1115.8614395176405,\n",
              "  1296.837395746858,\n",
              "  1262.3281522737466,\n",
              "  1056.0629794535469,\n",
              "  1131.1403412080258,\n",
              "  1206.481132301994,\n",
              "  1245.7321038859145,\n",
              "  1194.0999533459922,\n",
              "  1210.6960017338242,\n",
              "  1175.9233289212236,\n",
              "  1188.831366556204,\n",
              "  1340.0398074231196,\n",
              "  1133.5112052634304,\n",
              "  1298.154542444305,\n",
              "  1221.7600339923792,\n",
              "  1377.973632309593,\n",
              "  1199.6319694752697,\n",
              "  1042.1012244606086,\n",
              "  1099.2653911298084,\n",
              "  1268.6504564214922,\n",
              "  1099.7922498087873,\n",
              "  1112.963716783257,\n",
              "  1270.2310324584287,\n",
              "  1156.9564164779867,\n",
              "  1180.6650570320328,\n",
              "  1160.6444272308386,\n",
              "  1186.4605025007995,\n",
              "  1218.3354525790169,\n",
              "  1216.2280178631017,\n",
              "  1080.0350493470823,\n",
              "  1310.799150739796,\n",
              "  1242.044093133063,\n",
              "  1286.300222167282,\n",
              "  1304.4768465920506,\n",
              "  1190.67537193263,\n",
              "  1433.0303642628776,\n",
              "  1309.4820040423492,\n",
              "  1173.2890355263298,\n",
              "  1296.310537067879,\n",
              "  1301.3156945181777,\n",
              "  1172.235318168372,\n",
              "  1219.6525992764641,\n",
              "  1177.2404756186706,\n",
              "  1208.588567017909,\n",
              "  1218.8623112579958])"
            ]
          },
          "metadata": {},
          "execution_count": 34
        }
      ]
    },
    {
      "cell_type": "code",
      "source": [
        "def r2score(y,y_p):\n",
        "  ym = np.mean(y)\n",
        "  print(ym)\n",
        "  numerator = 0\n",
        "  denominator = 0\n",
        "  n = len(y)\n",
        "  for i in range(n):\n",
        "    numerator = numerator + (y_p - ym) ** 2\n",
        "    denominator = denominator + (y - ym) ** 2\n",
        "  return numerator / denominator;\n",
        "r2score(y,y_p)"
      ],
      "metadata": {
        "colab": {
          "base_uri": "https://localhost:8080/"
        },
        "id": "PliHNcygORwQ",
        "outputId": "b476d7c0-3acc-4e4c-9196-877f43bd2267"
      },
      "execution_count": 35,
      "outputs": [
        {
          "output_type": "stream",
          "name": "stdout",
          "text": [
            "1282.873417721519\n"
          ]
        },
        {
          "output_type": "execute_result",
          "data": {
            "text/plain": [
              "array([8.75964972e-01, 3.76176130e+00, 1.00405281e+01, 1.86040551e+03,\n",
              "       2.16923513e-01, 5.67844513e-01, 1.15350579e-01, 5.02310931e-01,\n",
              "       5.87796583e-03, 9.90234188e-01, 7.75675651e-01, 9.48115805e-01,\n",
              "       4.81571598e-04, 3.99861073e-01, 4.85333612e-01, 2.72501501e-01,\n",
              "       2.30743062e-01, 2.35118537e+01, 6.17754237e+00, 3.15704524e+00,\n",
              "       7.51951838e-01, 6.91766443e+02, 3.23550934e+01, 2.41915774e+00,\n",
              "       6.93310180e-01, 8.75569276e-01, 2.61412859e-01, 2.55719451e-01,\n",
              "       3.05521948e+00, 1.08017236e+00, 1.31670129e+00, 8.19017970e-02,\n",
              "       2.31933371e+00, 1.29223952e+00, 8.56830108e-01, 3.90602233e-01,\n",
              "       9.35960273e-02, 2.00176555e-01, 2.84245188e+00, 1.29468357e+00,\n",
              "       1.65694941e+00, 8.37685389e-01, 5.48969643e-01, 2.43288982e-02,\n",
              "       1.11520517e+00, 5.73649157e-01, 6.33222485e-01, 3.31328585e+00,\n",
              "       4.30860749e-03, 2.36984288e-02, 1.32246613e+00, 3.89385308e-01,\n",
              "       1.03308377e+01, 1.11292387e+00, 7.22803646e-01, 6.41732025e-01,\n",
              "       6.18082844e+00, 2.55746063e-01, 2.83109041e+00, 2.29518873e-02,\n",
              "       2.13971261e-01, 3.46340340e-01, 2.03999071e+01, 6.50840485e-01,\n",
              "       1.71436000e-02, 2.95205001e-01, 4.52264902e+00, 2.86798053e-01,\n",
              "       8.52369101e-01, 2.21819080e+00, 2.83239306e-01, 3.03432814e-01,\n",
              "       1.74471721e+00, 5.58362469e-01, 1.36300627e+00, 5.17613019e-01,\n",
              "       1.19646709e-01, 5.70361305e-01, 6.37921226e+00, 2.71661325e+00,\n",
              "       1.85869799e+00, 1.58010140e-01, 6.85554579e+02, 1.57137702e-01,\n",
              "       9.08929028e+00, 1.94195164e-01, 2.76294370e-01, 9.12497521e-01,\n",
              "       1.37687155e+02, 2.09498588e-01, 2.52936994e+00, 8.39084176e-01,\n",
              "       1.94729309e-02, 1.22299066e+00, 5.95339367e+00, 1.05022678e-01,\n",
              "       9.78494297e-01, 6.32087075e-02, 1.66292547e-02, 1.01892630e+01,\n",
              "       3.18545589e-01, 1.28245647e-01, 4.36545200e-02, 3.67246195e-02,\n",
              "       3.49419716e-01, 2.60282901e-02, 5.44204616e-01, 1.18471576e+00,\n",
              "       9.27778536e-01, 3.86881207e-01, 3.51008756e-01, 7.76886012e-01,\n",
              "       1.87247572e+00, 2.18525637e+00, 8.60763650e+01, 2.03992847e+01,\n",
              "       1.29987232e-01, 2.96299823e+01, 2.55376668e+00, 2.17218256e+01,\n",
              "       3.17429695e-01, 3.07842298e+01, 2.04999727e+00, 2.62068830e-03,\n",
              "       2.25629074e+01, 3.37374435e-01, 1.64396530e-01, 1.29903997e+00,\n",
              "       1.43613336e+01, 6.39517734e-01, 4.29012106e-01, 2.65667399e-01,\n",
              "       4.21744517e-01, 1.02751482e-01, 6.39897701e-01, 1.18695097e+00,\n",
              "       3.26973197e+00, 5.50491507e-01, 4.73604591e-01, 6.12252152e-01,\n",
              "       1.60918402e+00, 7.87326853e-01, 2.12866436e+00, 5.24856311e+01,\n",
              "       1.92117342e+00, 5.16620314e-01, 1.84546495e-01, 5.87859467e+00,\n",
              "       7.12055632e-01, 1.55622908e+00, 2.21378703e+00, 5.84934799e+00,\n",
              "       1.01052608e-01, 3.19511280e-01, 4.09773793e-01, 1.24447276e+00,\n",
              "       2.73746852e+01, 1.61393315e-01, 2.62518022e+01, 5.27250638e+00,\n",
              "       5.24035648e-01, 2.59510154e-02, 1.63558255e-02, 1.87828354e-01,\n",
              "       1.57731482e+02, 1.99796017e+00, 9.56740567e+00, 6.12825794e-01,\n",
              "       2.38701364e-01, 5.99812346e-01, 2.53699389e+00, 6.47796671e-01,\n",
              "       2.50922593e-01, 6.80921759e+01, 5.55469923e-03, 1.21803420e+00,\n",
              "       8.16162775e-03, 1.52170152e-02, 4.88362695e+00, 1.33278526e-01,\n",
              "       4.13451258e+00, 4.70138296e-01, 1.15690668e+03, 1.22371316e+00,\n",
              "       1.10415111e-01, 7.33914620e-04, 1.91544557e-05, 3.25501169e-01,\n",
              "       2.51393071e+00, 7.33404582e-02, 7.25330846e+00, 8.74494032e-01,\n",
              "       7.49808722e-01, 3.74824186e-02, 3.90601401e-01, 1.20203385e+00,\n",
              "       8.67880854e-01, 1.47626685e+00, 7.50478602e-01, 1.99357326e+00,\n",
              "       1.47595116e-01, 4.99083753e+00, 2.79525921e-01, 2.19109458e-01,\n",
              "       1.26358734e+00, 4.76960009e-01, 9.44797039e-01, 5.24879564e+01,\n",
              "       5.95456963e-01, 5.39262527e-01, 7.43944367e-01, 1.46760814e-01,\n",
              "       6.74793363e-01, 1.23529988e+00, 1.47900051e-01, 4.73380630e+00,\n",
              "       9.87112175e-01, 1.35836852e+00, 4.68395083e-01, 1.78224164e-01,\n",
              "       4.63671976e-01, 5.60747624e-01, 9.44521029e+01, 5.15241004e-02,\n",
              "       7.50031457e-04, 1.59112377e+00, 6.25196654e+00, 2.39009213e+00,\n",
              "       1.57128343e-01, 2.41757959e-01, 4.00703631e-02, 8.60389169e-02,\n",
              "       4.09593427e-01, 8.67602492e-01, 3.48744319e-01, 4.33128897e-01,\n",
              "       1.54457944e-01])"
            ]
          },
          "metadata": {},
          "execution_count": 35
        }
      ]
    },
    {
      "cell_type": "code",
      "source": [
        "print(f\"Accuracy : {1 - r2score(y,y_p)}\")"
      ],
      "metadata": {
        "colab": {
          "base_uri": "https://localhost:8080/"
        },
        "id": "Em7vb6-LPSkA",
        "outputId": "ffe1688c-6f5b-434e-adc1-5d4ebdc8a6db"
      },
      "execution_count": 37,
      "outputs": [
        {
          "output_type": "stream",
          "name": "stdout",
          "text": [
            "1282.873417721519\n",
            "Accuracy : [ 1.24035028e-01 -2.76176130e+00 -9.04052810e+00 -1.85940551e+03\n",
            "  7.83076487e-01  4.32155487e-01  8.84649421e-01  4.97689069e-01\n",
            "  9.94122034e-01  9.76581179e-03  2.24324349e-01  5.18841947e-02\n",
            "  9.99518428e-01  6.00138927e-01  5.14666388e-01  7.27498499e-01\n",
            "  7.69256938e-01 -2.25118537e+01 -5.17754237e+00 -2.15704524e+00\n",
            "  2.48048162e-01 -6.90766443e+02 -3.13550934e+01 -1.41915774e+00\n",
            "  3.06689820e-01  1.24430724e-01  7.38587141e-01  7.44280549e-01\n",
            " -2.05521948e+00 -8.01723622e-02 -3.16701291e-01  9.18098203e-01\n",
            " -1.31933371e+00 -2.92239517e-01  1.43169892e-01  6.09397767e-01\n",
            "  9.06403973e-01  7.99823445e-01 -1.84245188e+00 -2.94683573e-01\n",
            " -6.56949409e-01  1.62314611e-01  4.51030357e-01  9.75671102e-01\n",
            " -1.15205169e-01  4.26350843e-01  3.66777515e-01 -2.31328585e+00\n",
            "  9.95691393e-01  9.76301571e-01 -3.22466125e-01  6.10614692e-01\n",
            " -9.33083773e+00 -1.12923869e-01  2.77196354e-01  3.58267975e-01\n",
            " -5.18082844e+00  7.44253937e-01 -1.83109041e+00  9.77048113e-01\n",
            "  7.86028739e-01  6.53659660e-01 -1.93999071e+01  3.49159515e-01\n",
            "  9.82856400e-01  7.04794999e-01 -3.52264902e+00  7.13201947e-01\n",
            "  1.47630899e-01 -1.21819080e+00  7.16760694e-01  6.96567186e-01\n",
            " -7.44717212e-01  4.41637531e-01 -3.63006273e-01  4.82386981e-01\n",
            "  8.80353291e-01  4.29638695e-01 -5.37921226e+00 -1.71661325e+00\n",
            " -8.58697990e-01  8.41989860e-01 -6.84554579e+02  8.42862298e-01\n",
            " -8.08929028e+00  8.05804836e-01  7.23705630e-01  8.75024788e-02\n",
            " -1.36687155e+02  7.90501412e-01 -1.52936994e+00  1.60915824e-01\n",
            "  9.80527069e-01 -2.22990657e-01 -4.95339367e+00  8.94977322e-01\n",
            "  2.15057026e-02  9.36791293e-01  9.83370745e-01 -9.18926299e+00\n",
            "  6.81454411e-01  8.71754353e-01  9.56345480e-01  9.63275380e-01\n",
            "  6.50580284e-01  9.73971710e-01  4.55795384e-01 -1.84715756e-01\n",
            "  7.22214642e-02  6.13118793e-01  6.48991244e-01  2.23113988e-01\n",
            " -8.72475717e-01 -1.18525637e+00 -8.50763650e+01 -1.93992847e+01\n",
            "  8.70012768e-01 -2.86299823e+01 -1.55376668e+00 -2.07218256e+01\n",
            "  6.82570305e-01 -2.97842298e+01 -1.04999727e+00  9.97379312e-01\n",
            " -2.15629074e+01  6.62625565e-01  8.35603470e-01 -2.99039969e-01\n",
            " -1.33613336e+01  3.60482266e-01  5.70987894e-01  7.34332601e-01\n",
            "  5.78255483e-01  8.97248518e-01  3.60102299e-01 -1.86950970e-01\n",
            " -2.26973197e+00  4.49508493e-01  5.26395409e-01  3.87747848e-01\n",
            " -6.09184016e-01  2.12673147e-01 -1.12866436e+00 -5.14856311e+01\n",
            " -9.21173424e-01  4.83379686e-01  8.15453505e-01 -4.87859467e+00\n",
            "  2.87944368e-01 -5.56229080e-01 -1.21378703e+00 -4.84934799e+00\n",
            "  8.98947392e-01  6.80488720e-01  5.90226207e-01 -2.44472757e-01\n",
            " -2.63746852e+01  8.38606685e-01 -2.52518022e+01 -4.27250638e+00\n",
            "  4.75964352e-01  9.74048985e-01  9.83644175e-01  8.12171646e-01\n",
            " -1.56731482e+02 -9.97960167e-01 -8.56740567e+00  3.87174206e-01\n",
            "  7.61298636e-01  4.00187654e-01 -1.53699389e+00  3.52203329e-01\n",
            "  7.49077407e-01 -6.70921759e+01  9.94445301e-01 -2.18034200e-01\n",
            "  9.91838372e-01  9.84782985e-01 -3.88362695e+00  8.66721474e-01\n",
            " -3.13451258e+00  5.29861704e-01 -1.15590668e+03 -2.23713164e-01\n",
            "  8.89584889e-01  9.99266085e-01  9.99980846e-01  6.74498831e-01\n",
            " -1.51393071e+00  9.26659542e-01 -6.25330846e+00  1.25505968e-01\n",
            "  2.50191278e-01  9.62517581e-01  6.09398599e-01 -2.02033847e-01\n",
            "  1.32119146e-01 -4.76266853e-01  2.49521398e-01 -9.93573259e-01\n",
            "  8.52404884e-01 -3.99083753e+00  7.20474079e-01  7.80890542e-01\n",
            " -2.63587335e-01  5.23039991e-01  5.52029612e-02 -5.14879564e+01\n",
            "  4.04543037e-01  4.60737473e-01  2.56055633e-01  8.53239186e-01\n",
            "  3.25206637e-01 -2.35299885e-01  8.52099949e-01 -3.73380630e+00\n",
            "  1.28878249e-02 -3.58368515e-01  5.31604917e-01  8.21775836e-01\n",
            "  5.36328024e-01  4.39252376e-01 -9.34521029e+01  9.48475900e-01\n",
            "  9.99249969e-01 -5.91123771e-01 -5.25196654e+00 -1.39009213e+00\n",
            "  8.42871657e-01  7.58242041e-01  9.59929637e-01  9.13961083e-01\n",
            "  5.90406573e-01  1.32397508e-01  6.51255681e-01  5.66871103e-01\n",
            "  8.45542056e-01]\n"
          ]
        }
      ]
    }
  ]
}