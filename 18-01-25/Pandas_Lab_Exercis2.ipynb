{
 "cells": [
  {
   "cell_type": "markdown",
   "metadata": {
    "id": "UbGp33eY741p"
   },
   "source": [
    "## Pandas Lab Exercise (Kaggle Automobile Dataset)\n",
    "\n",
    "We shall now test your skills in using Pandas package. We will be using the [automobiles Dataset](https://www.kaggle.com/nisargpatel/automobiles/data) from Kaggle. \n",
    "\n",
    "Answer each question asked below wrt the automobiles dataset. Load pandas as pd and upload the Automobile.csv file as auto"
   ]
  },
  {
   "cell_type": "code",
   "execution_count": 5,
   "metadata": {
    "id": "PBlq1VGW741u"
   },
   "outputs": [],
   "source": [
    "import pandas as pd"
   ]
  },
  {
   "cell_type": "markdown",
   "metadata": {
    "id": "DaOkloFo741z"
   },
   "source": [
    "**Load the Automobile dataset into variable \"auto\"**"
   ]
  },
  {
   "cell_type": "code",
   "execution_count": 6,
   "metadata": {
    "id": "SbgXY9P67410"
   },
   "outputs": [
    {
     "name": "stdout",
     "output_type": "stream",
     "text": [
      "     symboling  normalized_losses         make fuel_type aspiration  \\\n",
      "0            3                168  alfa-romero       gas        std   \n",
      "1            3                168  alfa-romero       gas        std   \n",
      "2            1                168  alfa-romero       gas        std   \n",
      "3            2                164         audi       gas        std   \n",
      "4            2                164         audi       gas        std   \n",
      "..         ...                ...          ...       ...        ...   \n",
      "196         -1                 95        volvo       gas        std   \n",
      "197         -1                 95        volvo       gas      turbo   \n",
      "198         -1                 95        volvo       gas        std   \n",
      "199         -1                 95        volvo    diesel      turbo   \n",
      "200         -1                 95        volvo       gas      turbo   \n",
      "\n",
      "    number_of_doors   body_style drive_wheels engine_location  wheel_base  \\\n",
      "0               two  convertible          rwd           front        88.6   \n",
      "1               two  convertible          rwd           front        88.6   \n",
      "2               two    hatchback          rwd           front        94.5   \n",
      "3              four        sedan          fwd           front        99.8   \n",
      "4              four        sedan          4wd           front        99.4   \n",
      "..              ...          ...          ...             ...         ...   \n",
      "196            four        sedan          rwd           front       109.1   \n",
      "197            four        sedan          rwd           front       109.1   \n",
      "198            four        sedan          rwd           front       109.1   \n",
      "199            four        sedan          rwd           front       109.1   \n",
      "200            four        sedan          rwd           front       109.1   \n",
      "\n",
      "     ...  engine_size  fuel_system  bore  stroke compression_ratio horsepower  \\\n",
      "0    ...          130         mpfi  3.47    2.68               9.0        111   \n",
      "1    ...          130         mpfi  3.47    2.68               9.0        111   \n",
      "2    ...          152         mpfi  2.68    3.47               9.0        154   \n",
      "3    ...          109         mpfi  3.19    3.40              10.0        102   \n",
      "4    ...          136         mpfi  3.19    3.40               8.0        115   \n",
      "..   ...          ...          ...   ...     ...               ...        ...   \n",
      "196  ...          141         mpfi  3.78    3.15               9.5        114   \n",
      "197  ...          141         mpfi  3.78    3.15               8.7        160   \n",
      "198  ...          173         mpfi  3.58    2.87               8.8        134   \n",
      "199  ...          145          idi  3.01    3.40              23.0        106   \n",
      "200  ...          141         mpfi  3.78    3.15               9.5        114   \n",
      "\n",
      "     peak_rpm city_mpg  highway_mpg  price  \n",
      "0        5000       21           27  13495  \n",
      "1        5000       21           27  16500  \n",
      "2        5000       19           26  16500  \n",
      "3        5500       24           30  13950  \n",
      "4        5500       18           22  17450  \n",
      "..        ...      ...          ...    ...  \n",
      "196      5400       23           28  16845  \n",
      "197      5300       19           25  19045  \n",
      "198      5500       18           23  21485  \n",
      "199      4800       26           27  22470  \n",
      "200      5400       19           25  22625  \n",
      "\n",
      "[201 rows x 26 columns]\n"
     ]
    }
   ],
   "source": [
    "auto_data = pd.read_csv(\"C:/Users/CVR/Downloads/Automobile.csv\")\n",
    "print(auto_data)"
   ]
  },
  {
   "cell_type": "markdown",
   "metadata": {
    "id": "Ojz2p4tA7412"
   },
   "source": [
    "**Check the head of the DataFrame.**"
   ]
  },
  {
   "cell_type": "code",
   "execution_count": 7,
   "metadata": {
    "colab": {
     "base_uri": "https://localhost:8080/",
     "height": 294
    },
    "id": "SkS94Img7413",
    "outputId": "94929b1c-b6c3-4e3b-e96f-96f32f7dfc3c"
   },
   "outputs": [
    {
     "name": "stdout",
     "output_type": "stream",
     "text": [
      "   symboling  normalized_losses         make fuel_type aspiration  \\\n",
      "0          3                168  alfa-romero       gas        std   \n",
      "1          3                168  alfa-romero       gas        std   \n",
      "2          1                168  alfa-romero       gas        std   \n",
      "3          2                164         audi       gas        std   \n",
      "4          2                164         audi       gas        std   \n",
      "\n",
      "  number_of_doors   body_style drive_wheels engine_location  wheel_base  ...  \\\n",
      "0             two  convertible          rwd           front        88.6  ...   \n",
      "1             two  convertible          rwd           front        88.6  ...   \n",
      "2             two    hatchback          rwd           front        94.5  ...   \n",
      "3            four        sedan          fwd           front        99.8  ...   \n",
      "4            four        sedan          4wd           front        99.4  ...   \n",
      "\n",
      "   engine_size  fuel_system  bore  stroke compression_ratio horsepower  \\\n",
      "0          130         mpfi  3.47    2.68               9.0        111   \n",
      "1          130         mpfi  3.47    2.68               9.0        111   \n",
      "2          152         mpfi  2.68    3.47               9.0        154   \n",
      "3          109         mpfi  3.19    3.40              10.0        102   \n",
      "4          136         mpfi  3.19    3.40               8.0        115   \n",
      "\n",
      "   peak_rpm city_mpg  highway_mpg  price  \n",
      "0      5000       21           27  13495  \n",
      "1      5000       21           27  16500  \n",
      "2      5000       19           26  16500  \n",
      "3      5500       24           30  13950  \n",
      "4      5500       18           22  17450  \n",
      "\n",
      "[5 rows x 26 columns]\n"
     ]
    }
   ],
   "source": [
    "auto_datahead = auto_data.head()\n",
    "print(auto_datahead)"
   ]
  },
  {
   "cell_type": "markdown",
   "metadata": {
    "id": "L1Hzw3tB7416"
   },
   "source": [
    "**How many rows and columns are there?**"
   ]
  },
  {
   "cell_type": "code",
   "execution_count": 9,
   "metadata": {
    "colab": {
     "base_uri": "https://localhost:8080/"
    },
    "id": "wVRt3ZKM7416",
    "outputId": "b48da0eb-5a24-45bc-d673-a59a429b0d60"
   },
   "outputs": [
    {
     "name": "stdout",
     "output_type": "stream",
     "text": [
      "Number of rows : 201\n",
      "Number of columns : 26\n"
     ]
    }
   ],
   "source": [
    "auto_rows = len(auto_data)\n",
    "auto_cols = len(auto_data.columns)\n",
    "\n",
    "print(f\"Number of rows : {auto_rows}\")\n",
    "print(f\"Number of columns : {auto_cols}\")"
   ]
  },
  {
   "cell_type": "code",
   "execution_count": null,
   "metadata": {
    "colab": {
     "base_uri": "https://localhost:8080/"
    },
    "id": "yq-n7WTn83lo",
    "outputId": "9bd07a59-1979-4879-9137-efb21b969d93"
   },
   "outputs": [],
   "source": []
  },
  {
   "cell_type": "markdown",
   "metadata": {
    "id": "ddFGs8707419"
   },
   "source": [
    "**What is the average Price of all cars in the dataset?**"
   ]
  },
  {
   "cell_type": "code",
   "execution_count": 12,
   "metadata": {
    "colab": {
     "base_uri": "https://localhost:8080/"
    },
    "id": "hl4I6xd-7419",
    "outputId": "49ef1721-b305-4029-d5cb-0952c0ff548a"
   },
   "outputs": [
    {
     "name": "stdout",
     "output_type": "stream",
     "text": [
      "The average price is 13207.129353233831\n"
     ]
    }
   ],
   "source": [
    "avg_price = auto_data['price'].mean()\n",
    "print(f\"The average price is {avg_price}\")"
   ]
  },
  {
   "cell_type": "markdown",
   "metadata": {
    "id": "zdJWY8G2742A"
   },
   "source": [
    "**Which is the cheapest make and costliest make of car in the lot?**"
   ]
  },
  {
   "cell_type": "code",
   "execution_count": 14,
   "metadata": {
    "colab": {
     "base_uri": "https://localhost:8080/"
    },
    "id": "rC_xmcM7742A",
    "outputId": "2cb6c3d9-8ea0-4031-b528-c0dbf77411ef"
   },
   "outputs": [
    {
     "name": "stdout",
     "output_type": "stream",
     "text": [
      "The cheapest make of car is 5118\n"
     ]
    }
   ],
   "source": [
    "cheapest = auto_data['price'].min()\n",
    "print(f\"The cheapest make of car is {cheapest}\")"
   ]
  },
  {
   "cell_type": "code",
   "execution_count": 15,
   "metadata": {
    "colab": {
     "base_uri": "https://localhost:8080/"
    },
    "id": "bxoYL21Y742D",
    "outputId": "b0928a0e-976f-44d8-b294-205ae633a1d9"
   },
   "outputs": [
    {
     "name": "stdout",
     "output_type": "stream",
     "text": [
      "The costliest make of car is 45400\n"
     ]
    }
   ],
   "source": [
    "costliest = auto_data['price'].max()\n",
    "print(f\"The costliest make of car is {costliest}\")"
   ]
  },
  {
   "cell_type": "markdown",
   "metadata": {
    "id": "xMvmHC-N742F"
   },
   "source": [
    "**How many cars have horsepower greater than 100?**"
   ]
  },
  {
   "cell_type": "code",
   "execution_count": 17,
   "metadata": {
    "colab": {
     "base_uri": "https://localhost:8080/"
    },
    "id": "TiVs0ipq742G",
    "outputId": "02f7760f-7464-4def-a586-924e179d811c"
   },
   "outputs": [
    {
     "name": "stdout",
     "output_type": "stream",
     "text": [
      "90\n"
     ]
    }
   ],
   "source": [
    "horsepower = auto_data[auto_data['horsepower']>100].shape[0]\n",
    "print(horsepower)"
   ]
  },
  {
   "cell_type": "markdown",
   "metadata": {
    "id": "BxCVZJNC742I"
   },
   "source": [
    "**How many hatchback cars are in the dataset ?**"
   ]
  },
  {
   "cell_type": "code",
   "execution_count": 18,
   "metadata": {
    "colab": {
     "base_uri": "https://localhost:8080/"
    },
    "id": "9LrFtDpF742J",
    "outputId": "df705384-2eb6-4b38-d511-3312cfe8c4e2"
   },
   "outputs": [
    {
     "name": "stdout",
     "output_type": "stream",
     "text": [
      "The number of hatchback cars is 68\n"
     ]
    }
   ],
   "source": [
    "hatchback = auto_data[auto_data['body_style'] == 'hatchback'].shape[0]\n",
    "print(f\"The number of hatchback cars is {hatchback}\")"
   ]
  },
  {
   "cell_type": "code",
   "execution_count": null,
   "metadata": {
    "colab": {
     "base_uri": "https://localhost:8080/"
    },
    "id": "nbr6QnTL-KmC",
    "outputId": "485d46bb-0101-4842-b28f-7f6ac0a7bab1"
   },
   "outputs": [],
   "source": []
  },
  {
   "cell_type": "markdown",
   "metadata": {
    "id": "BRLWunmC742L"
   },
   "source": [
    "**What are the 3 most commonly found cars in the dataset?**"
   ]
  },
  {
   "cell_type": "code",
   "execution_count": 19,
   "metadata": {
    "colab": {
     "base_uri": "https://localhost:8080/"
    },
    "id": "kS4gRLhB742M",
    "outputId": "0d7bb2f6-0ef5-4793-e309-b6953bd6dd67"
   },
   "outputs": [
    {
     "name": "stdout",
     "output_type": "stream",
     "text": [
      "The 3 most common cars are make\n",
      "toyota    32\n",
      "nissan    18\n",
      "mazda     17\n",
      "Name: count, dtype: int64\n"
     ]
    }
   ],
   "source": [
    "comm = auto_data['make'].value_counts().head(3)\n",
    "print(f\"The 3 most common cars are {comm}\")"
   ]
  },
  {
   "cell_type": "code",
   "execution_count": null,
   "metadata": {
    "colab": {
     "base_uri": "https://localhost:8080/"
    },
    "id": "Js2slKSz-Z3T",
    "outputId": "2d9d8d27-d20e-4a74-d774-b2aa8a433321"
   },
   "outputs": [],
   "source": []
  },
  {
   "cell_type": "markdown",
   "metadata": {
    "id": "soDyFoWf742O"
   },
   "source": [
    "**Someone purchased a car for 7099, what is the make of the car?**"
   ]
  },
  {
   "cell_type": "code",
   "execution_count": 20,
   "metadata": {
    "colab": {
     "base_uri": "https://localhost:8080/"
    },
    "id": "X6lrqVpq742O",
    "outputId": "64ce0c5c-4232-4bcf-c93d-38d30aff443d"
   },
   "outputs": [
    {
     "name": "stdout",
     "output_type": "stream",
     "text": [
      "87    nissan\n",
      "Name: make, dtype: object\n"
     ]
    }
   ],
   "source": [
    "make_car = auto_data[auto_data['price'] == 7099]['make']\n",
    "print(make_car)"
   ]
  },
  {
   "cell_type": "markdown",
   "metadata": {
    "id": "Dm97KFVj742T"
   },
   "source": [
    "**Which cars are priced greater than 40000?**"
   ]
  },
  {
   "cell_type": "code",
   "execution_count": 21,
   "metadata": {
    "colab": {
     "base_uri": "https://localhost:8080/"
    },
    "id": "KDsWpiuy742T",
    "outputId": "0f179fea-9e70-4371-a148-cf420b9d8f2b"
   },
   "outputs": [
    {
     "name": "stdout",
     "output_type": "stream",
     "text": [
      "15              bmw\n",
      "70    mercedes-benz\n",
      "71    mercedes-benz\n",
      "Name: make, dtype: object\n"
     ]
    }
   ],
   "source": [
    "greater_than_40000 = auto_data[auto_data['price'] > 40000]['make']\n",
    "print(greater_than_40000)"
   ]
  },
  {
   "cell_type": "markdown",
   "metadata": {
    "id": "NNEkkEPY742X"
   },
   "source": [
    "**Which are the cars that are both a sedan and priced less than 7000?**"
   ]
  },
  {
   "cell_type": "code",
   "execution_count": 24,
   "metadata": {
    "colab": {
     "base_uri": "https://localhost:8080/"
    },
    "id": "XQ66ellN742X",
    "outputId": "c2e04298-24cf-40e5-b7ca-e95f9e8b35f3"
   },
   "outputs": [
    {
     "name": "stdout",
     "output_type": "stream",
     "text": [
      "Empty DataFrame\n",
      "Columns: [symboling, normalized_losses, make, fuel_type, aspiration, number_of_doors, body_style, drive_wheels, engine_location, wheel_base, length, width, height, curb_weight, engine_type, number_of_cylinders, engine_size, fuel_system, bore, stroke, compression_ratio, horsepower, peak_rpm, city_mpg, highway_mpg, price]\n",
      "Index: []\n",
      "\n",
      "[0 rows x 26 columns]\n"
     ]
    }
   ],
   "source": [
    "cars = auto_data[(auto_data['price'] < 7000) & (auto_data['make'] == 'sedan')]\n",
    "print(cars)"
   ]
  },
  {
   "cell_type": "markdown",
   "metadata": {},
   "source": [
    " **Count the number of unique values in the `fuel_type` column.**"
   ]
  },
  {
   "cell_type": "code",
   "execution_count": 25,
   "metadata": {},
   "outputs": [
    {
     "name": "stdout",
     "output_type": "stream",
     "text": [
      "Number of unique values in the fuel type column is 2\n"
     ]
    }
   ],
   "source": [
    "unique = auto_data['fuel_type'].nunique()\n",
    "print(f\"Number of unique values in the fuel type column is {unique}\")"
   ]
  },
  {
   "cell_type": "markdown",
   "metadata": {},
   "source": [
    "**List all the cars that have a horsepower between 100 and 200, and display their `make`, `horsepower`, and `price`.**"
   ]
  },
  {
   "cell_type": "code",
   "execution_count": 26,
   "metadata": {},
   "outputs": [
    {
     "name": "stdout",
     "output_type": "stream",
     "text": [
      "            make  horsepower  price\n",
      "0    alfa-romero         111  13495\n",
      "1    alfa-romero         111  16500\n",
      "2    alfa-romero         154  16500\n",
      "3           audi         102  13950\n",
      "4           audi         115  17450\n",
      "..           ...         ...    ...\n",
      "196        volvo         114  16845\n",
      "197        volvo         160  19045\n",
      "198        volvo         134  21485\n",
      "199        volvo         106  22470\n",
      "200        volvo         114  22625\n",
      "\n",
      "[85 rows x 3 columns]\n"
     ]
    }
   ],
   "source": [
    "b = auto_data[(auto_data['horsepower'] > 100) & (auto_data['horsepower'] < 200)][['make','horsepower','price']]\n",
    "print(b)"
   ]
  },
  {
   "cell_type": "markdown",
   "metadata": {},
   "source": [
    "**Find the average `city_mpg` and `highway_mpg` for each `body_style`.**"
   ]
  },
  {
   "cell_type": "code",
   "execution_count": 28,
   "metadata": {},
   "outputs": [
    {
     "name": "stdout",
     "output_type": "stream",
     "text": [
      "    body_style   city_mpg  highway_mpg\n",
      "0  convertible  20.500000    26.000000\n",
      "1      hardtop  21.625000    27.250000\n",
      "2    hatchback  26.602941    32.382353\n",
      "3        sedan  25.053191    30.574468\n",
      "4        wagon  24.040000    28.720000\n"
     ]
    }
   ],
   "source": [
    "avg = auto_data.groupby('body_style')[['city_mpg','highway_mpg']].mean().reset_index()\n",
    "print(avg)"
   ]
  },
  {
   "cell_type": "markdown",
   "metadata": {},
   "source": [
    "**What is the median `price` for each `make`?**"
   ]
  },
  {
   "cell_type": "code",
   "execution_count": 29,
   "metadata": {},
   "outputs": [
    {
     "name": "stdout",
     "output_type": "stream",
     "text": [
      "             make    price\n",
      "0     alfa-romero  16500.0\n",
      "1            audi  17580.0\n",
      "2             bmw  22835.0\n",
      "3       chevrolet   6295.0\n",
      "4           dodge   7609.0\n",
      "5           honda   7295.0\n",
      "6           isuzu   8916.5\n",
      "7          jaguar  35550.0\n",
      "8           mazda  10595.0\n",
      "9   mercedes-benz  32892.0\n",
      "10        mercury  16503.0\n",
      "11     mitsubishi   8499.0\n",
      "12         nissan   8124.0\n",
      "13         peugot  16630.0\n",
      "14       plymouth   7609.0\n",
      "15        porsche  33278.0\n",
      "16        renault   9595.0\n",
      "17           saab  15275.0\n",
      "18         subaru   7894.0\n",
      "19         toyota   9103.0\n",
      "20     volkswagen   9737.5\n",
      "21          volvo  18420.0\n"
     ]
    }
   ],
   "source": [
    "median = auto_data.groupby('make')['price'].median().reset_index()\n",
    "print(median)"
   ]
  },
  {
   "cell_type": "markdown",
   "metadata": {},
   "source": [
    "**List all cars that have a `wheel_base` greater than 100 and a `curb_weight` less than 2500.**"
   ]
  },
  {
   "cell_type": "code",
   "execution_count": 32,
   "metadata": {},
   "outputs": [
    {
     "name": "stdout",
     "output_type": "stream",
     "text": [
      "9         bmw\n",
      "10        bmw\n",
      "169    toyota\n",
      "170    toyota\n",
      "171    toyota\n",
      "172    toyota\n",
      "173    toyota\n",
      "Name: make, dtype: object\n"
     ]
    }
   ],
   "source": [
    "c = auto_data[(auto_data['wheel_base'] > 100) & (auto_data['curb_weight'] < 2500)]['make']\n",
    "print(c)"
   ]
  },
  {
   "cell_type": "markdown",
   "metadata": {},
   "source": [
    "**Create a new column `price_per_hp` that calculates the price of the car per horsepower.**"
   ]
  },
  {
   "cell_type": "code",
   "execution_count": 33,
   "metadata": {},
   "outputs": [
    {
     "name": "stdout",
     "output_type": "stream",
     "text": [
      "            make  horsepower  price  price_per_hp\n",
      "0    alfa-romero         111  13495    121.576577\n",
      "1    alfa-romero         111  16500    148.648649\n",
      "2    alfa-romero         154  16500    107.142857\n",
      "3           audi         102  13950    136.764706\n",
      "4           audi         115  17450    151.739130\n",
      "..           ...         ...    ...           ...\n",
      "196        volvo         114  16845    147.763158\n",
      "197        volvo         160  19045    119.031250\n",
      "198        volvo         134  21485    160.335821\n",
      "199        volvo         106  22470    211.981132\n",
      "200        volvo         114  22625    198.464912\n",
      "\n",
      "[201 rows x 4 columns]\n"
     ]
    }
   ],
   "source": [
    "auto_data['price_per_hp'] = auto_data['price'] / auto_data['horsepower']\n",
    "print(auto_data[['make','horsepower','price','price_per_hp']])"
   ]
  },
  {
   "cell_type": "markdown",
   "metadata": {},
   "source": [
    "**Count how many cars have a `number_of_doors` as `four`.**"
   ]
  },
  {
   "cell_type": "code",
   "execution_count": 34,
   "metadata": {},
   "outputs": [
    {
     "name": "stdout",
     "output_type": "stream",
     "text": [
      "114\n"
     ]
    }
   ],
   "source": [
    "fourcars = auto_data[auto_data['number_of_doors'] == 'four'].shape[0]\n",
    "print(fourcars)"
   ]
  },
  {
   "cell_type": "markdown",
   "metadata": {},
   "source": [
    "**Find the top 5 cars based on their `highway_mpg` and `price`.**"
   ]
  },
  {
   "cell_type": "code",
   "execution_count": 35,
   "metadata": {},
   "outputs": [
    {
     "name": "stdout",
     "output_type": "stream",
     "text": [
      "     symboling  normalized_losses       make fuel_type aspiration  \\\n",
      "29           2                137      honda       gas        std   \n",
      "17           2                121  chevrolet       gas        std   \n",
      "87           1                128     nissan    diesel        std   \n",
      "155          0                 91     toyota    diesel        std   \n",
      "156          0                 91     toyota       gas        std   \n",
      "\n",
      "    number_of_doors body_style drive_wheels engine_location  wheel_base  ...  \\\n",
      "29              two  hatchback          fwd           front        86.6  ...   \n",
      "17              two  hatchback          fwd           front        88.4  ...   \n",
      "87              two      sedan          fwd           front        94.5  ...   \n",
      "155            four  hatchback          fwd           front        95.7  ...   \n",
      "156            four      sedan          fwd           front        95.7  ...   \n",
      "\n",
      "     fuel_system  bore  stroke  compression_ratio horsepower peak_rpm  \\\n",
      "29          1bbl  2.91    3.41                9.6         58     4800   \n",
      "17          2bbl  2.91    3.03                9.5         48     5100   \n",
      "87           idi  2.99    3.47               21.9         55     4800   \n",
      "155          idi  3.27    3.35               22.5         56     4500   \n",
      "156         2bbl  3.19    3.03                9.0         70     4800   \n",
      "\n",
      "     city_mpg highway_mpg  price  price_per_hp  \n",
      "29         49          54   6479    111.706897  \n",
      "17         47          53   5151    107.312500  \n",
      "87         45          50   7099    129.072727  \n",
      "155        38          47   7788    139.071429  \n",
      "156        38          47   7738    110.542857  \n",
      "\n",
      "[5 rows x 27 columns]\n"
     ]
    }
   ],
   "source": [
    "top_five = auto_data.sort_values(by=['highway_mpg','price'], ascending=[False,False]).head()\n",
    "print(top_five)"
   ]
  },
  {
   "cell_type": "markdown",
   "metadata": {},
   "source": [
    "**How many cars have missing values in the `normalized_losses` column?**"
   ]
  },
  {
   "cell_type": "code",
   "execution_count": 36,
   "metadata": {},
   "outputs": [
    {
     "name": "stdout",
     "output_type": "stream",
     "text": [
      "Missing values in normalised_losses is 0\n"
     ]
    }
   ],
   "source": [
    "missing_values = auto_data['normalized_losses'].isnull().sum()\n",
    "print(f\"Missing values in normalised_losses is {missing_values}\")"
   ]
  },
  {
   "cell_type": "markdown",
   "metadata": {},
   "source": [
    "**Create a new column `car_age` that calculates the age of the car based on the `year_of_manufacture` (assume the current year is 2025).**"
   ]
  },
  {
   "cell_type": "code",
   "execution_count": 37,
   "metadata": {},
   "outputs": [
    {
     "name": "stdout",
     "output_type": "stream",
     "text": [
      "   year_of_manufacture         make  car_age\n",
      "0                 2019  alfa-romero        6\n",
      "1                 2019  alfa-romero        6\n",
      "2                 2019  alfa-romero        6\n",
      "3                 2019         audi        6\n",
      "4                 2019         audi        6\n"
     ]
    }
   ],
   "source": [
    "auto_data['year_of_manufacture'] = 2019\n",
    "auto_data['car_age'] = 2025 - auto_data['year_of_manufacture']\n",
    "print(auto_data[['year_of_manufacture','make','car_age']].head())"
   ]
  },
  {
   "cell_type": "markdown",
   "metadata": {
    "id": "lUpH8N1Y742a"
   },
   "source": [
    "### The END"
   ]
  }
 ],
 "metadata": {
  "colab": {
   "collapsed_sections": [],
   "include_colab_link": true,
   "name": "Pandas Lab Exercise (kaggle automobile dataset).ipynb",
   "provenance": []
  },
  "kernelspec": {
   "display_name": "Python 3 (ipykernel)",
   "language": "python",
   "name": "python3"
  },
  "language_info": {
   "codemirror_mode": {
    "name": "ipython",
    "version": 3
   },
   "file_extension": ".py",
   "mimetype": "text/x-python",
   "name": "python",
   "nbconvert_exporter": "python",
   "pygments_lexer": "ipython3",
   "version": "3.11.5"
  }
 },
 "nbformat": 4,
 "nbformat_minor": 4
}
