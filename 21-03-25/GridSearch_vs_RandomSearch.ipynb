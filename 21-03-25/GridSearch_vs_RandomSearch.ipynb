{
  "nbformat": 4,
  "nbformat_minor": 0,
  "metadata": {
    "colab": {
      "provenance": []
    },
    "kernelspec": {
      "name": "python3",
      "display_name": "Python 3"
    },
    "language_info": {
      "name": "python"
    }
  },
  "cells": [
    {
      "cell_type": "code",
      "execution_count": 1,
      "metadata": {
        "id": "oItEeNbC8PqQ"
      },
      "outputs": [],
      "source": [
        "import numpy as np\n",
        "import pandas as pd\n",
        "import matplotlib.pyplot as plt\n",
        "import seaborn as sns\n",
        "from sklearn.model_selection import train_test_split,GridSearchCV,RandomizedSearchCV\n",
        "from sklearn.ensemble import RandomForestClassifier\n",
        "from sklearn.metrics import accuracy_score,confusion_matrix,classification_report,confusion_matrix\n",
        "from sklearn.datasets import load_iris"
      ]
    },
    {
      "cell_type": "markdown",
      "source": [
        "## **Load and explore dataset**"
      ],
      "metadata": {
        "id": "BkhsCn3kAOaN"
      }
    },
    {
      "cell_type": "code",
      "source": [
        "df=load_iris()\n",
        "x = df.data\n",
        "y = df.target"
      ],
      "metadata": {
        "id": "vKEefN8O9z6m"
      },
      "execution_count": 3,
      "outputs": []
    },
    {
      "cell_type": "markdown",
      "source": [
        "## **Define Hyperparameter Grid**"
      ],
      "metadata": {
        "id": "skQbx3OWAk7F"
      }
    },
    {
      "cell_type": "code",
      "source": [
        "param_grid = {'n_estimators':[10,50,100,200],\n",
        "              'max_depth':[5,10,20,None],\n",
        "              'min_samples_split':[2,5,10],\n",
        "              'min_samples_leaf':[1,2,4]}\n",
        "x_train,x_test,y_train,y_test = train_test_split(x,y,test_size=0.2,random_state=42)"
      ],
      "metadata": {
        "id": "kePRmSo1-FzU"
      },
      "execution_count": 4,
      "outputs": []
    },
    {
      "cell_type": "markdown",
      "source": [
        "## **Apply Grid Search CV**"
      ],
      "metadata": {
        "id": "9qnU3fVWAvN9"
      }
    },
    {
      "cell_type": "code",
      "source": [
        "# Grid Search CV\n",
        "grid_search = GridSearchCV(RandomForestClassifier(),param_grid,cv=5,n_jobs=1,verbose=1)\n",
        "grid_search.fit(x_train,y_train)\n",
        "\n",
        "#Get best parameters\n",
        "best_params = grid_search.best_params_\n",
        "print(best_params)"
      ],
      "metadata": {
        "colab": {
          "base_uri": "https://localhost:8080/"
        },
        "id": "dkjM43We-0BN",
        "outputId": "ae398a54-e03a-40cf-fda5-35eb05c13548"
      },
      "execution_count": 5,
      "outputs": [
        {
          "output_type": "stream",
          "name": "stdout",
          "text": [
            "Fitting 5 folds for each of 144 candidates, totalling 720 fits\n",
            "{'max_depth': 10, 'min_samples_leaf': 4, 'min_samples_split': 5, 'n_estimators': 10}\n"
          ]
        }
      ]
    },
    {
      "cell_type": "markdown",
      "source": [
        "## **Apply Randomized Search CV**"
      ],
      "metadata": {
        "id": "khlx_LWFBH3-"
      }
    },
    {
      "cell_type": "code",
      "source": [
        "# Randomized Search CV\n",
        "random_search = RandomizedSearchCV(RandomForestClassifier(),param_grid,cv=5,n_jobs=1,verbose=1)\n",
        "random_search.fit(x_train,y_train)\n",
        "\n",
        "# Get best parameters\n",
        "best_params = random_search.best_params_\n",
        "print(best_params)"
      ],
      "metadata": {
        "colab": {
          "base_uri": "https://localhost:8080/"
        },
        "id": "ZJaJsDf0_Mx2",
        "outputId": "79af6809-e8d8-4729-e0b2-5ff23b6fad51"
      },
      "execution_count": 6,
      "outputs": [
        {
          "output_type": "stream",
          "name": "stdout",
          "text": [
            "Fitting 5 folds for each of 10 candidates, totalling 50 fits\n",
            "{'n_estimators': 10, 'min_samples_split': 10, 'min_samples_leaf': 2, 'max_depth': 10}\n"
          ]
        }
      ]
    },
    {
      "cell_type": "markdown",
      "source": [
        "## **Evaluate Model Performance**"
      ],
      "metadata": {
        "id": "jBKUSfX0BQm1"
      }
    },
    {
      "cell_type": "code",
      "source": [
        "\n",
        "\n",
        "\n",
        "-# Train models with best parameters\n",
        "best_grid_model = grid_search.best_estimator_\n",
        "best_random_model = random_search.best_estimator_\n",
        "\n",
        "# Ppredictions\n",
        "y_pred_grid = best_grid_model.predict(x_test)\n",
        "y_pred_random = best_random_model.predict(x_test)\n",
        "\n",
        "# Accuracy Scores\n",
        "acc_grid = accuracy_score(y_test,y_pred_grid)\n",
        "acc_random = accuracy_score(y_test,y_pred_random)\n",
        "\n",
        "print(f'Accuracy with Grid Search CV: {acc_grid :.2f}')\n",
        "print(f'Accuracy with Random Search CV: {acc_random :.2f}')\n"
      ],
      "metadata": {
        "colab": {
          "base_uri": "https://localhost:8080/"
        },
        "id": "MkteOsSC_dhE",
        "outputId": "44721abb-6293-43b6-de8d-1aeabe723647"
      },
      "execution_count": 8,
      "outputs": [
        {
          "output_type": "stream",
          "name": "stdout",
          "text": [
            "Accuracy with Grid Search CV: 1.00\n",
            "Accuracy with Random Search CV: 1.00\n"
          ]
        }
      ]
    }
  ]
}