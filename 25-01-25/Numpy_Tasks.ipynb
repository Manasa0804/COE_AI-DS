{
 "cells": [
  {
   "cell_type": "code",
   "execution_count": 1,
   "id": "e43bcbef-555b-4bdb-bdc1-2627adcfd35f",
   "metadata": {},
   "outputs": [],
   "source": [
    "import numpy as np"
   ]
  },
  {
   "cell_type": "code",
   "execution_count": 15,
   "id": "81db8779",
   "metadata": {},
   "outputs": [
    {
     "name": "stdout",
     "output_type": "stream",
     "text": [
      "[10 11 12 13 14 15 16 17 18 19 20 21 22 23 24 25 26 27 28 29 30 31 32 33\n",
      " 34 35 36 37 38 39 40 41 42 43 44 45 46 47 48 49 50] \n",
      "\n",
      "[[0.93213466 0.3563097  0.52871425]\n",
      " [0.91517346 0.27915632 0.50701428]\n",
      " [0.26227119 0.1569529  0.37791468]]\n"
     ]
    }
   ],
   "source": [
    "# 1.\tArray Creation\n",
    "# \t    Create a 1D array of numbers from 10 to 50.\n",
    "#   \tCreate a 3x3 array of random numbers between 0 and 1.\n",
    "array1 = np.array(range(10,51))\n",
    "print(array1,'\\n')\n",
    "array2 = np.random.rand(3, 3)\n",
    "print(array2)"
   ]
  },
  {
   "cell_type": "code",
   "execution_count": 9,
   "id": "2f99abe0",
   "metadata": {},
   "outputs": [
    {
     "name": "stdout",
     "output_type": "stream",
     "text": [
      "(40,)\n",
      "40\n",
      "int32\n"
     ]
    }
   ],
   "source": [
    "# 2.\tArray Attributes\n",
    "#    \tFind the shape, size, and data type of the array you created in the previous task.\n",
    "print(array1.shape)\n",
    "print(array1.size)\n",
    "print(array1.dtype)"
   ]
  },
  {
   "cell_type": "code",
   "execution_count": 10,
   "id": "e9ee3908",
   "metadata": {},
   "outputs": [
    {
     "name": "stdout",
     "output_type": "stream",
     "text": [
      "[16 26 20 36 45] \n",
      "\n",
      "[[ 558  266  840]\n",
      " [1122  364  782]]\n"
     ]
    }
   ],
   "source": [
    "# 3.\tBasic Operations\n",
    "#   \tAdd 5 to every element of a 1D array.\n",
    "#       Multiply two 2D arrays element-wise.\n",
    "array3 = np.array([11,21,15,31,40])\n",
    "print(array3+5,\"\\n\")\n",
    "\n",
    "array4 = np.array([[31,14,21],[51,26,17]])\n",
    "array5 = np.array([[18,19,40],[22,14,46]])\n",
    "print(array4*array5)"
   ]
  },
  {
   "cell_type": "code",
   "execution_count": 14,
   "id": "d1faf65d",
   "metadata": {},
   "outputs": [
    {
     "name": "stdout",
     "output_type": "stream",
     "text": [
      "[[ 1  2  3  4  5]\n",
      " [ 6  7  8  9 10]\n",
      " [11 12 13 14 15]\n",
      " [16 17 18 19 20]\n",
      " [21 22 23 24 25]] \n",
      "\n",
      "[1 2 3 4 5] \n",
      "\n",
      "[ 5 10 15 20 25] \n",
      "\n",
      "[[ 1  2]\n",
      " [ 6  7]\n",
      " [11 12]]\n"
     ]
    }
   ],
   "source": [
    "# 4.\tIndexing and Slicing\n",
    "#   \tCreate a 5x5 array of integers from 1 to 25. Extract:\n",
    "#   \tThe first row.\n",
    "#   \tThe last column.\n",
    "#   \tA subarray of the first three rows and first two columns.\n",
    "array6 = np.array(range(1,26)).reshape(5,5)\n",
    "print(array6,'\\n')\n",
    "print(array6[0,:],'\\n')\n",
    "print(array6[:,-1],'\\n')\n",
    "print(array6[:3,:2])"
   ]
  },
  {
   "cell_type": "code",
   "execution_count": 17,
   "id": "56e36e73",
   "metadata": {},
   "outputs": [
    {
     "name": "stdout",
     "output_type": "stream",
     "text": [
      "[72 88 43 31 78 73  6 20  7 96] \n",
      "\n",
      "96 \n",
      "\n",
      "6 \n",
      "\n",
      "51.4 \n",
      "\n",
      "32.29922599691825\n"
     ]
    }
   ],
   "source": [
    "# 5.\tAggregation\n",
    "#   \tCreate a 10-element array of random integers between 1 and 100. Find:\n",
    "#   \tThe maximum value.\n",
    "#   \tThe minimum value.\n",
    "#   \tThe mean and standard deviation.\n",
    "array7 = np.random.randint(1,101,10)\n",
    "print(array7,'\\n')\n",
    "print(np.max(array7),'\\n')\n",
    "print(np.min(array7),'\\n')\n",
    "print(np.mean(array7),'\\n')\n",
    "print(np.std(array7))"
   ]
  },
  {
   "cell_type": "code",
   "execution_count": 18,
   "id": "eb4a47ea",
   "metadata": {},
   "outputs": [
    {
     "name": "stdout",
     "output_type": "stream",
     "text": [
      "[[ 1  2  3  4]\n",
      " [ 5  6  7  8]\n",
      " [ 9 10 11 12]]\n"
     ]
    }
   ],
   "source": [
    "# 6.\tReshaping\n",
    "#   \tConvert a 1D array of numbers from 1 to 12 into a 3x4 matrix.\n",
    "array8 = np.array(range(1,13)).reshape(3,4)\n",
    "print(array8)\n"
   ]
  },
  {
   "cell_type": "code",
   "execution_count": 19,
   "id": "b01311a6",
   "metadata": {},
   "outputs": [
    {
     "name": "stdout",
     "output_type": "stream",
     "text": [
      "[[2. 3. 4.]\n",
      " [2. 3. 4.]\n",
      " [2. 3. 4.]]\n"
     ]
    }
   ],
   "source": [
    "# 7.\tBroadcasting\n",
    "#   \tCreate a 3x3 matrix of ones. Add a 1D array [1, 2, 3] to each row.\n",
    "array9 = np.ones((3,3))\n",
    "array10 = np.array([1,2,3])\n",
    "res = array9+array10\n",
    "print(res)"
   ]
  },
  {
   "cell_type": "code",
   "execution_count": null,
   "id": "3fec80ae",
   "metadata": {},
   "outputs": [
    {
     "name": "stdout",
     "output_type": "stream",
     "text": [
      "[25 15 15 10]\n"
     ]
    }
   ],
   "source": [
    "# 8.\tFiltering\n",
    "#   \tCreate a 1D array of random integers between 1 and 50. Extract all elements that are divisible by 5.\n",
    "array11 = np.random.randint(1, 51, 20)\n",
    "res = array11[array11 % 5 == 0]\n",
    "print(res)"
   ]
  },
  {
   "cell_type": "code",
   "execution_count": 20,
   "id": "cc295b12",
   "metadata": {},
   "outputs": [
    {
     "name": "stdout",
     "output_type": "stream",
     "text": [
      "[[ 234  510]\n",
      " [ 300 1517]]\n"
     ]
    }
   ],
   "source": [
    "# 9.\tMatrix Multiplication\n",
    "#   \tCreate two 2x2 matrices and perform matrix multiplication.\n",
    "array12 = np.array([[13,51],[25,37]])\n",
    "array13 = np.array([[18,10],[12,41]])\n",
    "print(array12*array13)"
   ]
  },
  {
   "cell_type": "code",
   "execution_count": 21,
   "id": "95f511d4",
   "metadata": {},
   "outputs": [
    {
     "name": "stdout",
     "output_type": "stream",
     "text": [
      "[ 1  6 11 16]\n"
     ]
    }
   ],
   "source": [
    "# 10.\tAdvanced Indexing\n",
    "#   \tGiven a 4x4 array, use fancy indexing to extract the diagonal elements.\n",
    "array14 = np.arange(1, 17).reshape(4, 4)\n",
    "res = array14[np.arange(4), np.arange(4)]\n",
    "print(res)"
   ]
  }
 ],
 "metadata": {
  "kernelspec": {
   "display_name": "Python 3",
   "language": "python",
   "name": "python3"
  },
  "language_info": {
   "codemirror_mode": {
    "name": "ipython",
    "version": 3
   },
   "file_extension": ".py",
   "mimetype": "text/x-python",
   "name": "python",
   "nbconvert_exporter": "python",
   "pygments_lexer": "ipython3",
   "version": "3.12.3"
  }
 },
 "nbformat": 4,
 "nbformat_minor": 5
}
